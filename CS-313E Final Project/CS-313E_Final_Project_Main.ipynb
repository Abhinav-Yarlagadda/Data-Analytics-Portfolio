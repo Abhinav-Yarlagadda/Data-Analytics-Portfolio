{
 "cells": [
  {
   "cell_type": "markdown",
   "metadata": {},
   "source": [
    "# __Green Bonds Data Analysis Project__"
   ]
  },
  {
   "cell_type": "markdown",
   "metadata": {},
   "source": [
    "## __Introduction__"
   ]
  },
  {
   "cell_type": "markdown",
   "metadata": {},
   "source": [
    "The primary goal of this data analysis project on green bonds is to gain insights into green bond policies, the market for green bonds, and their impact on sustainable development. Green bonds are financial instruments designed to fund projects with positive environmental benefits. By analyzing green bond datasets, we seek to visualize data regarding green bonds in a meaningful way to raise awareness on the use of green bonds as a means of advancing environmental sustainability. "
   ]
  },
  {
   "cell_type": "markdown",
   "metadata": {},
   "source": [
    "### Datasets"
   ]
  },
  {
   "cell_type": "markdown",
   "metadata": {},
   "source": [
    "Green Bond Policy Dataset: Provides information regarding green bond policies across multiple countries until 2019, including links to policies and policy area among other data\n",
    "* Link (from the CLimate Bonds Initiative): https://www.climatebonds.net/policy/data/download"
   ]
  },
  {
   "cell_type": "markdown",
   "metadata": {},
   "source": [
    "The Federal National Mortgage Association (FNMA), also known as Fannie Mae, is a government-sponsored publically traded company whose purpose is to expand the secondary mortgage market by securitizing mortgage loans as mortgage-backed securities, essentially allowing lenders to offer more mortgage loans to everyday Americans.\n",
    "\n",
    "\"Green\" Mortgage-Backed Securities (MBS) are a type of MBS that provide investor insight into the environmental attributes of a property, as well as its financial attributes. Fannie Mae's Green Bond issuances are backed by current properties that are retrofitted with more environmentally friendly equipment and backed by new properties built to be more energy- and water-efficient. This practice at the macro-level results in more affordable, more sustainable homes for the future.\n",
    "\n",
    "This publically-available dataset contains thousands of \"green\" MBS issuances for the purpose of more affordable, more sustainable housing. Multi-family Green MBS are specifically earmarked to provide support for the U.S. rental housing stock and for new multi-family properties.\n",
    "* Link (from Fannie Mae): https://capitalmarkets.fanniemae.com/sustainable-bonds/green-bonds"
   ]
  },
  {
   "cell_type": "markdown",
   "metadata": {},
   "source": [
    "### Project Design"
   ]
  },
  {
   "cell_type": "markdown",
   "metadata": {},
   "source": [
    "The project design involves a main file to store all code for data analysis along with the datasets and the test datasets. The test datasets are built on the actual dataset with modified rows to replicate the proper data formatting.\n",
    "\n",
    "For the green bond policies section, functions were used for the data analysis and visualization portions to provide replicability as needed for the test cases. After iterating the design, the functions were separated for each data summary and visualization, so calls to the function could be executed only when necessary.\n",
    "\n",
    "For the Fannie Mae section, a function to clean the dataset and create a new dataframe was used. Then, a class contains methods to apply upon the dataframe. Finally, multiple functions were used to create the static graphs using the visualization packages. "
   ]
  },
  {
   "cell_type": "markdown",
   "metadata": {},
   "source": [
    "### Libraries"
   ]
  },
  {
   "cell_type": "code",
   "execution_count": 1,
   "metadata": {},
   "outputs": [],
   "source": [
    "# data visualization library for 2D plots\n",
    "import matplotlib.pyplot as plt\n",
    "\n",
    "# comprehensive library for mathematical functions and numerical computing\n",
    "import numpy as np\n",
    "\n",
    "# data analysis and manipulation library built on top of numpy\n",
    "import pandas as pd\n",
    "\n",
    "# library to read and write Excel files (xlsx) in Python\n",
    "import openpyxl as xl\n",
    "\n",
    "# high-level data visualization library based on matplotlib\n",
    "import seaborn as sns\n",
    "\n",
    "# high-level data visualization library for interactive plotting built on the plotly library\n",
    "import plotly.express as px\n",
    "\n",
    "# declarative data visualization library for static and interactive plotting\n",
    "import altair as alt\n",
    "\n",
    "# provides access to some variables used or maintained by the interpreter\n",
    "import sys"
   ]
  },
  {
   "cell_type": "markdown",
   "metadata": {},
   "source": [
    "## __Green Bond Policies__"
   ]
  },
  {
   "cell_type": "markdown",
   "metadata": {},
   "source": [
    "### Dataset File I/O"
   ]
  },
  {
   "cell_type": "code",
   "execution_count": 2,
   "metadata": {},
   "outputs": [],
   "source": [
    "gb_pol = pd.read_excel(\"gb-policy-data-20190527.xlsx\")"
   ]
  },
  {
   "cell_type": "markdown",
   "metadata": {},
   "source": [
    "### Displaying Data"
   ]
  },
  {
   "cell_type": "code",
   "execution_count": 3,
   "metadata": {},
   "outputs": [
    {
     "data": {
      "text/html": [
       "<div>\n",
       "<style scoped>\n",
       "    .dataframe tbody tr th:only-of-type {\n",
       "        vertical-align: middle;\n",
       "    }\n",
       "\n",
       "    .dataframe tbody tr th {\n",
       "        vertical-align: top;\n",
       "    }\n",
       "\n",
       "    .dataframe thead th {\n",
       "        text-align: right;\n",
       "    }\n",
       "</style>\n",
       "<table border=\"1\" class=\"dataframe\">\n",
       "  <thead>\n",
       "    <tr style=\"text-align: right;\">\n",
       "      <th></th>\n",
       "      <th>CBID</th>\n",
       "      <th>Areas</th>\n",
       "      <th>PolicyType</th>\n",
       "      <th>Policy</th>\n",
       "      <th>Region</th>\n",
       "      <th>Country</th>\n",
       "      <th>Actor</th>\n",
       "      <th>ActorType</th>\n",
       "      <th>Date</th>\n",
       "      <th>Description</th>\n",
       "      <th>Links</th>\n",
       "    </tr>\n",
       "  </thead>\n",
       "  <tbody>\n",
       "    <tr>\n",
       "      <th>0</th>\n",
       "      <td>1</td>\n",
       "      <td>Policy Signal</td>\n",
       "      <td>Special document</td>\n",
       "      <td>NGFS First Comprehensive Report (A call for ac...</td>\n",
       "      <td>Global</td>\n",
       "      <td>NaN</td>\n",
       "      <td>NGFS</td>\n",
       "      <td>Central Bank</td>\n",
       "      <td>Apr 2019</td>\n",
       "      <td>The NGFS report provides six recommendation fo...</td>\n",
       "      <td>https://www.banque-france.fr/en/financial-stab...</td>\n",
       "    </tr>\n",
       "    <tr>\n",
       "      <th>1</th>\n",
       "      <td>2</td>\n",
       "      <td>Policy Signal</td>\n",
       "      <td>Special document</td>\n",
       "      <td>New Zealand Reserve Bank Climate Change Strategy</td>\n",
       "      <td>Asia-Pacific</td>\n",
       "      <td>New Zealand</td>\n",
       "      <td>New Zealand Reserve Bank</td>\n",
       "      <td>Central Bank</td>\n",
       "      <td>Dec 2018</td>\n",
       "      <td>The strategy focuses on managing the bank’s di...</td>\n",
       "      <td>https://www.rbnz.govt.nz/financial-stability/c...</td>\n",
       "    </tr>\n",
       "    <tr>\n",
       "      <th>2</th>\n",
       "      <td>3</td>\n",
       "      <td>Issuance</td>\n",
       "      <td>Demonstration issuance</td>\n",
       "      <td>First World's Blue Bond</td>\n",
       "      <td>Africa</td>\n",
       "      <td>Africa</td>\n",
       "      <td>Republic of Seychelles</td>\n",
       "      <td>Central Government</td>\n",
       "      <td>Oct 2018</td>\n",
       "      <td>The world's first blue bond issued by the Repu...</td>\n",
       "      <td>https://www.worldbank.org/en/news/press-releas...</td>\n",
       "    </tr>\n",
       "    <tr>\n",
       "      <th>3</th>\n",
       "      <td>4</td>\n",
       "      <td>Policy Signal</td>\n",
       "      <td>Policy signal</td>\n",
       "      <td>Climate Financial Risk Forum</td>\n",
       "      <td>Europe</td>\n",
       "      <td>UK</td>\n",
       "      <td>Prudential Regulation Authority (PRA) and Fina...</td>\n",
       "      <td>Central Bank</td>\n",
       "      <td>Sep 2018</td>\n",
       "      <td>The objective of the CFRF is to build capacity...</td>\n",
       "      <td>https://www.fca.org.uk/news/press-releases/fir...</td>\n",
       "    </tr>\n",
       "    <tr>\n",
       "      <th>4</th>\n",
       "      <td>5</td>\n",
       "      <td>Standardisation</td>\n",
       "      <td>Green bond/debt guidelines</td>\n",
       "      <td>Guidelines on the Issuance of Green Bonds unde...</td>\n",
       "      <td>Asia-Pacific</td>\n",
       "      <td>Philippines</td>\n",
       "      <td>Securities and Exchange Commission Philippines</td>\n",
       "      <td>Scurities Regulator</td>\n",
       "      <td>Aug 2018</td>\n",
       "      <td>The Securities and Exchange Commission Philipp...</td>\n",
       "      <td>http://www.sec.gov.ph/wp-content/uploads/2015/...</td>\n",
       "    </tr>\n",
       "    <tr>\n",
       "      <th>...</th>\n",
       "      <td>...</td>\n",
       "      <td>...</td>\n",
       "      <td>...</td>\n",
       "      <td>...</td>\n",
       "      <td>...</td>\n",
       "      <td>...</td>\n",
       "      <td>...</td>\n",
       "      <td>...</td>\n",
       "      <td>...</td>\n",
       "      <td>...</td>\n",
       "      <td>...</td>\n",
       "    </tr>\n",
       "    <tr>\n",
       "      <th>99</th>\n",
       "      <td>100</td>\n",
       "      <td>Cooperation</td>\n",
       "      <td>Market development committee</td>\n",
       "      <td>Establishment of India Green Bond Council</td>\n",
       "      <td>Asia-Pacific</td>\n",
       "      <td>India</td>\n",
       "      <td>FICCI and CBI</td>\n",
       "      <td>Banking/Business Association</td>\n",
       "      <td>Oct 2016</td>\n",
       "      <td>The India Green Bonds Council was convened by ...</td>\n",
       "      <td>https://www.climatebonds.net/2016/10/mumbai-in...</td>\n",
       "    </tr>\n",
       "    <tr>\n",
       "      <th>100</th>\n",
       "      <td>101</td>\n",
       "      <td>Cooperation</td>\n",
       "      <td>Market development committee</td>\n",
       "      <td>Green Bond Private Public Sector Advisory Group</td>\n",
       "      <td>Africa</td>\n",
       "      <td>Nigeria</td>\n",
       "      <td>Ministry of Environment &amp; Ministry of Finance</td>\n",
       "      <td>Central Government</td>\n",
       "      <td>End 2016</td>\n",
       "      <td>The Green Bond Private Public Sector Advisory ...</td>\n",
       "      <td>https://www.nipc.gov.ng/climate-bonds-welcomes...</td>\n",
       "    </tr>\n",
       "    <tr>\n",
       "      <th>101</th>\n",
       "      <td>102</td>\n",
       "      <td>Investment</td>\n",
       "      <td>Climate risk disclosure</td>\n",
       "      <td>Task Force on Climate-related Financial Disclo...</td>\n",
       "      <td>Global</td>\n",
       "      <td>Global</td>\n",
       "      <td>Financial Stability Board</td>\n",
       "      <td>NaN</td>\n",
       "      <td>Dec 2015</td>\n",
       "      <td>The FSB Task Force on Climate-related Financia...</td>\n",
       "      <td>https://www.fsb-tcfd.org/about/# ; http://www....</td>\n",
       "    </tr>\n",
       "    <tr>\n",
       "      <th>102</th>\n",
       "      <td>103</td>\n",
       "      <td>Standardisation</td>\n",
       "      <td>Green definitions</td>\n",
       "      <td>Green Bond Listing Requirements - Luxembourg</td>\n",
       "      <td>Europe</td>\n",
       "      <td>Luxembourg</td>\n",
       "      <td>Luxembourg Stock Exchange</td>\n",
       "      <td>Stock Exchange</td>\n",
       "      <td>Sep 2016</td>\n",
       "      <td>Luxembourg Stock Exchange launched the Luxembo...</td>\n",
       "      <td>https://www.bourse.lu/green</td>\n",
       "    </tr>\n",
       "    <tr>\n",
       "      <th>103</th>\n",
       "      <td>104</td>\n",
       "      <td>Standardisation</td>\n",
       "      <td>Green definitions</td>\n",
       "      <td>Green Bond Listing Requirements - London</td>\n",
       "      <td>Europe</td>\n",
       "      <td>UK</td>\n",
       "      <td>London Stock Exchange</td>\n",
       "      <td>Stock Exchange</td>\n",
       "      <td>Jul 2015</td>\n",
       "      <td>The London Stock Exchange green segment is cur...</td>\n",
       "      <td>https://www.londonstockexchange.com/specialist...</td>\n",
       "    </tr>\n",
       "  </tbody>\n",
       "</table>\n",
       "<p>104 rows × 11 columns</p>\n",
       "</div>"
      ],
      "text/plain": [
       "     CBID            Areas                    PolicyType  \\\n",
       "0       1    Policy Signal              Special document   \n",
       "1       2    Policy Signal              Special document   \n",
       "2       3         Issuance        Demonstration issuance   \n",
       "3       4    Policy Signal                 Policy signal   \n",
       "4       5  Standardisation    Green bond/debt guidelines   \n",
       "..    ...              ...                           ...   \n",
       "99    100      Cooperation  Market development committee   \n",
       "100   101      Cooperation  Market development committee   \n",
       "101   102       Investment       Climate risk disclosure   \n",
       "102   103  Standardisation             Green definitions   \n",
       "103   104  Standardisation             Green definitions   \n",
       "\n",
       "                                                Policy        Region  \\\n",
       "0    NGFS First Comprehensive Report (A call for ac...        Global   \n",
       "1     New Zealand Reserve Bank Climate Change Strategy  Asia-Pacific   \n",
       "2                              First World's Blue Bond        Africa   \n",
       "3                        Climate Financial Risk Forum         Europe   \n",
       "4    Guidelines on the Issuance of Green Bonds unde...  Asia-Pacific   \n",
       "..                                                 ...           ...   \n",
       "99           Establishment of India Green Bond Council  Asia-Pacific   \n",
       "100    Green Bond Private Public Sector Advisory Group        Africa   \n",
       "101  Task Force on Climate-related Financial Disclo...        Global   \n",
       "102       Green Bond Listing Requirements - Luxembourg        Europe   \n",
       "103           Green Bond Listing Requirements - London        Europe   \n",
       "\n",
       "         Country                                             Actor   \\\n",
       "0            NaN                                               NGFS   \n",
       "1    New Zealand                           New Zealand Reserve Bank   \n",
       "2         Africa                             Republic of Seychelles   \n",
       "3             UK  Prudential Regulation Authority (PRA) and Fina...   \n",
       "4    Philippines     Securities and Exchange Commission Philippines   \n",
       "..           ...                                                ...   \n",
       "99         India                                      FICCI and CBI   \n",
       "100      Nigeria      Ministry of Environment & Ministry of Finance   \n",
       "101       Global                          Financial Stability Board   \n",
       "102   Luxembourg                          Luxembourg Stock Exchange   \n",
       "103           UK                              London Stock Exchange   \n",
       "\n",
       "                        ActorType      Date  \\\n",
       "0                    Central Bank  Apr 2019   \n",
       "1                    Central Bank  Dec 2018   \n",
       "2              Central Government  Oct 2018   \n",
       "3                    Central Bank  Sep 2018   \n",
       "4             Scurities Regulator  Aug 2018   \n",
       "..                            ...       ...   \n",
       "99   Banking/Business Association  Oct 2016   \n",
       "100            Central Government  End 2016   \n",
       "101                           NaN  Dec 2015   \n",
       "102                Stock Exchange  Sep 2016   \n",
       "103                Stock Exchange  Jul 2015   \n",
       "\n",
       "                                           Description  \\\n",
       "0    The NGFS report provides six recommendation fo...   \n",
       "1    The strategy focuses on managing the bank’s di...   \n",
       "2    The world's first blue bond issued by the Repu...   \n",
       "3    The objective of the CFRF is to build capacity...   \n",
       "4    The Securities and Exchange Commission Philipp...   \n",
       "..                                                 ...   \n",
       "99   The India Green Bonds Council was convened by ...   \n",
       "100  The Green Bond Private Public Sector Advisory ...   \n",
       "101  The FSB Task Force on Climate-related Financia...   \n",
       "102  Luxembourg Stock Exchange launched the Luxembo...   \n",
       "103  The London Stock Exchange green segment is cur...   \n",
       "\n",
       "                                                 Links  \n",
       "0    https://www.banque-france.fr/en/financial-stab...  \n",
       "1    https://www.rbnz.govt.nz/financial-stability/c...  \n",
       "2    https://www.worldbank.org/en/news/press-releas...  \n",
       "3    https://www.fca.org.uk/news/press-releases/fir...  \n",
       "4    http://www.sec.gov.ph/wp-content/uploads/2015/...  \n",
       "..                                                 ...  \n",
       "99   https://www.climatebonds.net/2016/10/mumbai-in...  \n",
       "100  https://www.nipc.gov.ng/climate-bonds-welcomes...  \n",
       "101  https://www.fsb-tcfd.org/about/# ; http://www....  \n",
       "102                        https://www.bourse.lu/green  \n",
       "103  https://www.londonstockexchange.com/specialist...  \n",
       "\n",
       "[104 rows x 11 columns]"
      ]
     },
     "metadata": {},
     "output_type": "display_data"
    }
   ],
   "source": [
    "display(gb_pol)"
   ]
  },
  {
   "cell_type": "markdown",
   "metadata": {},
   "source": [
    "### Data Cleaning"
   ]
  },
  {
   "cell_type": "code",
   "execution_count": 4,
   "metadata": {},
   "outputs": [],
   "source": [
    "# Fills in country value as global if the corresponding region value is also global\n",
    "gb_pol.loc[gb_pol[\"Region\"] == \"Global\", \"Country\"] = \"Global\"\n",
    "\n",
    "# Fills in the rest of the empty cells for the Country column with the value of Unknown\n",
    "gb_pol[\"Country\"] = gb_pol[\"Country\"].fillna(\"Unknown\")\n",
    "\n",
    "# Fills in the empty cells for the ActorType column with the value of Unknown\n",
    "gb_pol[\"ActorType\"] = gb_pol[\"ActorType\"].fillna(\"Unknown\")\n",
    "\n",
    "# Fills in the empty cells for the Links column with the value of No Link Available\n",
    "gb_pol[\"Links\"] = gb_pol[\"Links\"].fillna(\"No Link Available\")"
   ]
  },
  {
   "cell_type": "code",
   "execution_count": 5,
   "metadata": {},
   "outputs": [
    {
     "data": {
      "text/html": [
       "<div>\n",
       "<style scoped>\n",
       "    .dataframe tbody tr th:only-of-type {\n",
       "        vertical-align: middle;\n",
       "    }\n",
       "\n",
       "    .dataframe tbody tr th {\n",
       "        vertical-align: top;\n",
       "    }\n",
       "\n",
       "    .dataframe thead th {\n",
       "        text-align: right;\n",
       "    }\n",
       "</style>\n",
       "<table border=\"1\" class=\"dataframe\">\n",
       "  <thead>\n",
       "    <tr style=\"text-align: right;\">\n",
       "      <th></th>\n",
       "      <th>CBID</th>\n",
       "      <th>Areas</th>\n",
       "      <th>PolicyType</th>\n",
       "      <th>Policy</th>\n",
       "      <th>Region</th>\n",
       "      <th>Country</th>\n",
       "      <th>Actor</th>\n",
       "      <th>ActorType</th>\n",
       "      <th>Date</th>\n",
       "      <th>Description</th>\n",
       "      <th>Links</th>\n",
       "    </tr>\n",
       "  </thead>\n",
       "  <tbody>\n",
       "    <tr>\n",
       "      <th>0</th>\n",
       "      <td>1</td>\n",
       "      <td>Policy Signal</td>\n",
       "      <td>Special document</td>\n",
       "      <td>NGFS First Comprehensive Report (A call for ac...</td>\n",
       "      <td>Global</td>\n",
       "      <td>Global</td>\n",
       "      <td>NGFS</td>\n",
       "      <td>Central Bank</td>\n",
       "      <td>Apr 2019</td>\n",
       "      <td>The NGFS report provides six recommendation fo...</td>\n",
       "      <td>https://www.banque-france.fr/en/financial-stab...</td>\n",
       "    </tr>\n",
       "    <tr>\n",
       "      <th>1</th>\n",
       "      <td>2</td>\n",
       "      <td>Policy Signal</td>\n",
       "      <td>Special document</td>\n",
       "      <td>New Zealand Reserve Bank Climate Change Strategy</td>\n",
       "      <td>Asia-Pacific</td>\n",
       "      <td>New Zealand</td>\n",
       "      <td>New Zealand Reserve Bank</td>\n",
       "      <td>Central Bank</td>\n",
       "      <td>Dec 2018</td>\n",
       "      <td>The strategy focuses on managing the bank’s di...</td>\n",
       "      <td>https://www.rbnz.govt.nz/financial-stability/c...</td>\n",
       "    </tr>\n",
       "    <tr>\n",
       "      <th>2</th>\n",
       "      <td>3</td>\n",
       "      <td>Issuance</td>\n",
       "      <td>Demonstration issuance</td>\n",
       "      <td>First World's Blue Bond</td>\n",
       "      <td>Africa</td>\n",
       "      <td>Africa</td>\n",
       "      <td>Republic of Seychelles</td>\n",
       "      <td>Central Government</td>\n",
       "      <td>Oct 2018</td>\n",
       "      <td>The world's first blue bond issued by the Repu...</td>\n",
       "      <td>https://www.worldbank.org/en/news/press-releas...</td>\n",
       "    </tr>\n",
       "    <tr>\n",
       "      <th>3</th>\n",
       "      <td>4</td>\n",
       "      <td>Policy Signal</td>\n",
       "      <td>Policy signal</td>\n",
       "      <td>Climate Financial Risk Forum</td>\n",
       "      <td>Europe</td>\n",
       "      <td>UK</td>\n",
       "      <td>Prudential Regulation Authority (PRA) and Fina...</td>\n",
       "      <td>Central Bank</td>\n",
       "      <td>Sep 2018</td>\n",
       "      <td>The objective of the CFRF is to build capacity...</td>\n",
       "      <td>https://www.fca.org.uk/news/press-releases/fir...</td>\n",
       "    </tr>\n",
       "    <tr>\n",
       "      <th>4</th>\n",
       "      <td>5</td>\n",
       "      <td>Standardisation</td>\n",
       "      <td>Green bond/debt guidelines</td>\n",
       "      <td>Guidelines on the Issuance of Green Bonds unde...</td>\n",
       "      <td>Asia-Pacific</td>\n",
       "      <td>Philippines</td>\n",
       "      <td>Securities and Exchange Commission Philippines</td>\n",
       "      <td>Scurities Regulator</td>\n",
       "      <td>Aug 2018</td>\n",
       "      <td>The Securities and Exchange Commission Philipp...</td>\n",
       "      <td>http://www.sec.gov.ph/wp-content/uploads/2015/...</td>\n",
       "    </tr>\n",
       "    <tr>\n",
       "      <th>5</th>\n",
       "      <td>6</td>\n",
       "      <td>Issuance</td>\n",
       "      <td>Project pipeline</td>\n",
       "      <td>Luxembourg Law on Renewable Energy Covered Bonds</td>\n",
       "      <td>Europe</td>\n",
       "      <td>Luxembourg</td>\n",
       "      <td>Chamber of Deputies</td>\n",
       "      <td>Central Government</td>\n",
       "      <td>Jul 2018</td>\n",
       "      <td>This is the first law in the world allowing re...</td>\n",
       "      <td>http://www.allenovery.com/publications/en-gb/P...</td>\n",
       "    </tr>\n",
       "    <tr>\n",
       "      <th>6</th>\n",
       "      <td>7</td>\n",
       "      <td>Instruments</td>\n",
       "      <td>Monetary policy</td>\n",
       "      <td>Green Bonds Included as Eligigle Collateral fo...</td>\n",
       "      <td>Asia-Pacific</td>\n",
       "      <td>China</td>\n",
       "      <td>PBoC</td>\n",
       "      <td>Central Bank</td>\n",
       "      <td>Jun 2018</td>\n",
       "      <td>PBoC plans to expand the guarantee scope of it...</td>\n",
       "      <td>https://www.reuters.com/article/us-china-cenba...</td>\n",
       "    </tr>\n",
       "    <tr>\n",
       "      <th>7</th>\n",
       "      <td>8</td>\n",
       "      <td>Instruments</td>\n",
       "      <td>Prudential regulation</td>\n",
       "      <td>Green credit included into its Macro-prudentia...</td>\n",
       "      <td>Asia-Pacific</td>\n",
       "      <td>China</td>\n",
       "      <td>PBoC</td>\n",
       "      <td>Central Bank</td>\n",
       "      <td>Jun 2018</td>\n",
       "      <td>The more green assets (green bonds/green lendi...</td>\n",
       "      <td>https://www.scmp.com/business/companies/articl...</td>\n",
       "    </tr>\n",
       "    <tr>\n",
       "      <th>8</th>\n",
       "      <td>9</td>\n",
       "      <td>Cooperation</td>\n",
       "      <td>Market development committee</td>\n",
       "      <td>Establishment of Technical Expert Group (TEG)</td>\n",
       "      <td>Europe</td>\n",
       "      <td>Europe</td>\n",
       "      <td>European Commission</td>\n",
       "      <td>Supranational Government</td>\n",
       "      <td>Jun 2018</td>\n",
       "      <td>In June, the EC launched a Technical Expert Gr...</td>\n",
       "      <td>https://www.climatebonds.net/resources/reports...</td>\n",
       "    </tr>\n",
       "    <tr>\n",
       "      <th>9</th>\n",
       "      <td>10</td>\n",
       "      <td>Issuance</td>\n",
       "      <td>Demonstration issuance</td>\n",
       "      <td>Sovreign Green Bond Framework</td>\n",
       "      <td>Europe</td>\n",
       "      <td>Lithuania</td>\n",
       "      <td>Republic of Lithuania</td>\n",
       "      <td>Central Government</td>\n",
       "      <td>May 2018</td>\n",
       "      <td>The green bond framework states that the use o...</td>\n",
       "      <td>http://www.nasdaqbaltic.com/market/?instrument...</td>\n",
       "    </tr>\n",
       "  </tbody>\n",
       "</table>\n",
       "</div>"
      ],
      "text/plain": [
       "   CBID            Areas                    PolicyType  \\\n",
       "0     1    Policy Signal              Special document   \n",
       "1     2    Policy Signal              Special document   \n",
       "2     3         Issuance        Demonstration issuance   \n",
       "3     4    Policy Signal                 Policy signal   \n",
       "4     5  Standardisation    Green bond/debt guidelines   \n",
       "5     6         Issuance              Project pipeline   \n",
       "6     7      Instruments               Monetary policy   \n",
       "7     8      Instruments         Prudential regulation   \n",
       "8     9      Cooperation  Market development committee   \n",
       "9    10         Issuance        Demonstration issuance   \n",
       "\n",
       "                                              Policy        Region  \\\n",
       "0  NGFS First Comprehensive Report (A call for ac...        Global   \n",
       "1   New Zealand Reserve Bank Climate Change Strategy  Asia-Pacific   \n",
       "2                            First World's Blue Bond        Africa   \n",
       "3                      Climate Financial Risk Forum         Europe   \n",
       "4  Guidelines on the Issuance of Green Bonds unde...  Asia-Pacific   \n",
       "5   Luxembourg Law on Renewable Energy Covered Bonds        Europe   \n",
       "6  Green Bonds Included as Eligigle Collateral fo...  Asia-Pacific   \n",
       "7  Green credit included into its Macro-prudentia...  Asia-Pacific   \n",
       "8      Establishment of Technical Expert Group (TEG)        Europe   \n",
       "9                      Sovreign Green Bond Framework        Europe   \n",
       "\n",
       "       Country                                             Actor   \\\n",
       "0       Global                                               NGFS   \n",
       "1  New Zealand                           New Zealand Reserve Bank   \n",
       "2       Africa                             Republic of Seychelles   \n",
       "3           UK  Prudential Regulation Authority (PRA) and Fina...   \n",
       "4  Philippines     Securities and Exchange Commission Philippines   \n",
       "5   Luxembourg                                Chamber of Deputies   \n",
       "6        China                                               PBoC   \n",
       "7        China                                               PBoC   \n",
       "8       Europe                                European Commission   \n",
       "9    Lithuania                              Republic of Lithuania   \n",
       "\n",
       "                  ActorType      Date  \\\n",
       "0              Central Bank  Apr 2019   \n",
       "1              Central Bank  Dec 2018   \n",
       "2        Central Government  Oct 2018   \n",
       "3              Central Bank  Sep 2018   \n",
       "4       Scurities Regulator  Aug 2018   \n",
       "5        Central Government  Jul 2018   \n",
       "6              Central Bank  Jun 2018   \n",
       "7              Central Bank  Jun 2018   \n",
       "8  Supranational Government  Jun 2018   \n",
       "9        Central Government  May 2018   \n",
       "\n",
       "                                         Description  \\\n",
       "0  The NGFS report provides six recommendation fo...   \n",
       "1  The strategy focuses on managing the bank’s di...   \n",
       "2  The world's first blue bond issued by the Repu...   \n",
       "3  The objective of the CFRF is to build capacity...   \n",
       "4  The Securities and Exchange Commission Philipp...   \n",
       "5  This is the first law in the world allowing re...   \n",
       "6  PBoC plans to expand the guarantee scope of it...   \n",
       "7  The more green assets (green bonds/green lendi...   \n",
       "8  In June, the EC launched a Technical Expert Gr...   \n",
       "9  The green bond framework states that the use o...   \n",
       "\n",
       "                                               Links  \n",
       "0  https://www.banque-france.fr/en/financial-stab...  \n",
       "1  https://www.rbnz.govt.nz/financial-stability/c...  \n",
       "2  https://www.worldbank.org/en/news/press-releas...  \n",
       "3  https://www.fca.org.uk/news/press-releases/fir...  \n",
       "4  http://www.sec.gov.ph/wp-content/uploads/2015/...  \n",
       "5  http://www.allenovery.com/publications/en-gb/P...  \n",
       "6  https://www.reuters.com/article/us-china-cenba...  \n",
       "7  https://www.scmp.com/business/companies/articl...  \n",
       "8  https://www.climatebonds.net/resources/reports...  \n",
       "9  http://www.nasdaqbaltic.com/market/?instrument...  "
      ]
     },
     "execution_count": 5,
     "metadata": {},
     "output_type": "execute_result"
    }
   ],
   "source": [
    "gb_pol.head(10)"
   ]
  },
  {
   "cell_type": "code",
   "execution_count": 6,
   "metadata": {},
   "outputs": [],
   "source": [
    "# Slices the date so that the column only contains the year\n",
    "gb_pol[\"Date\"] = gb_pol[\"Date\"].str.slice(4)"
   ]
  },
  {
   "cell_type": "code",
   "execution_count": 7,
   "metadata": {},
   "outputs": [
    {
     "data": {
      "text/html": [
       "<div>\n",
       "<style scoped>\n",
       "    .dataframe tbody tr th:only-of-type {\n",
       "        vertical-align: middle;\n",
       "    }\n",
       "\n",
       "    .dataframe tbody tr th {\n",
       "        vertical-align: top;\n",
       "    }\n",
       "\n",
       "    .dataframe thead th {\n",
       "        text-align: right;\n",
       "    }\n",
       "</style>\n",
       "<table border=\"1\" class=\"dataframe\">\n",
       "  <thead>\n",
       "    <tr style=\"text-align: right;\">\n",
       "      <th></th>\n",
       "      <th>CBID</th>\n",
       "      <th>Areas</th>\n",
       "      <th>PolicyType</th>\n",
       "      <th>Policy</th>\n",
       "      <th>Region</th>\n",
       "      <th>Country</th>\n",
       "      <th>Actor</th>\n",
       "      <th>ActorType</th>\n",
       "      <th>Date</th>\n",
       "      <th>Description</th>\n",
       "      <th>Links</th>\n",
       "    </tr>\n",
       "  </thead>\n",
       "  <tbody>\n",
       "    <tr>\n",
       "      <th>0</th>\n",
       "      <td>1</td>\n",
       "      <td>Policy Signal</td>\n",
       "      <td>Special document</td>\n",
       "      <td>NGFS First Comprehensive Report (A call for ac...</td>\n",
       "      <td>Global</td>\n",
       "      <td>Global</td>\n",
       "      <td>NGFS</td>\n",
       "      <td>Central Bank</td>\n",
       "      <td>2019</td>\n",
       "      <td>The NGFS report provides six recommendation fo...</td>\n",
       "      <td>https://www.banque-france.fr/en/financial-stab...</td>\n",
       "    </tr>\n",
       "    <tr>\n",
       "      <th>1</th>\n",
       "      <td>2</td>\n",
       "      <td>Policy Signal</td>\n",
       "      <td>Special document</td>\n",
       "      <td>New Zealand Reserve Bank Climate Change Strategy</td>\n",
       "      <td>Asia-Pacific</td>\n",
       "      <td>New Zealand</td>\n",
       "      <td>New Zealand Reserve Bank</td>\n",
       "      <td>Central Bank</td>\n",
       "      <td>2018</td>\n",
       "      <td>The strategy focuses on managing the bank’s di...</td>\n",
       "      <td>https://www.rbnz.govt.nz/financial-stability/c...</td>\n",
       "    </tr>\n",
       "    <tr>\n",
       "      <th>2</th>\n",
       "      <td>3</td>\n",
       "      <td>Issuance</td>\n",
       "      <td>Demonstration issuance</td>\n",
       "      <td>First World's Blue Bond</td>\n",
       "      <td>Africa</td>\n",
       "      <td>Africa</td>\n",
       "      <td>Republic of Seychelles</td>\n",
       "      <td>Central Government</td>\n",
       "      <td>2018</td>\n",
       "      <td>The world's first blue bond issued by the Repu...</td>\n",
       "      <td>https://www.worldbank.org/en/news/press-releas...</td>\n",
       "    </tr>\n",
       "    <tr>\n",
       "      <th>3</th>\n",
       "      <td>4</td>\n",
       "      <td>Policy Signal</td>\n",
       "      <td>Policy signal</td>\n",
       "      <td>Climate Financial Risk Forum</td>\n",
       "      <td>Europe</td>\n",
       "      <td>UK</td>\n",
       "      <td>Prudential Regulation Authority (PRA) and Fina...</td>\n",
       "      <td>Central Bank</td>\n",
       "      <td>2018</td>\n",
       "      <td>The objective of the CFRF is to build capacity...</td>\n",
       "      <td>https://www.fca.org.uk/news/press-releases/fir...</td>\n",
       "    </tr>\n",
       "    <tr>\n",
       "      <th>4</th>\n",
       "      <td>5</td>\n",
       "      <td>Standardisation</td>\n",
       "      <td>Green bond/debt guidelines</td>\n",
       "      <td>Guidelines on the Issuance of Green Bonds unde...</td>\n",
       "      <td>Asia-Pacific</td>\n",
       "      <td>Philippines</td>\n",
       "      <td>Securities and Exchange Commission Philippines</td>\n",
       "      <td>Scurities Regulator</td>\n",
       "      <td>2018</td>\n",
       "      <td>The Securities and Exchange Commission Philipp...</td>\n",
       "      <td>http://www.sec.gov.ph/wp-content/uploads/2015/...</td>\n",
       "    </tr>\n",
       "    <tr>\n",
       "      <th>5</th>\n",
       "      <td>6</td>\n",
       "      <td>Issuance</td>\n",
       "      <td>Project pipeline</td>\n",
       "      <td>Luxembourg Law on Renewable Energy Covered Bonds</td>\n",
       "      <td>Europe</td>\n",
       "      <td>Luxembourg</td>\n",
       "      <td>Chamber of Deputies</td>\n",
       "      <td>Central Government</td>\n",
       "      <td>2018</td>\n",
       "      <td>This is the first law in the world allowing re...</td>\n",
       "      <td>http://www.allenovery.com/publications/en-gb/P...</td>\n",
       "    </tr>\n",
       "    <tr>\n",
       "      <th>6</th>\n",
       "      <td>7</td>\n",
       "      <td>Instruments</td>\n",
       "      <td>Monetary policy</td>\n",
       "      <td>Green Bonds Included as Eligigle Collateral fo...</td>\n",
       "      <td>Asia-Pacific</td>\n",
       "      <td>China</td>\n",
       "      <td>PBoC</td>\n",
       "      <td>Central Bank</td>\n",
       "      <td>2018</td>\n",
       "      <td>PBoC plans to expand the guarantee scope of it...</td>\n",
       "      <td>https://www.reuters.com/article/us-china-cenba...</td>\n",
       "    </tr>\n",
       "    <tr>\n",
       "      <th>7</th>\n",
       "      <td>8</td>\n",
       "      <td>Instruments</td>\n",
       "      <td>Prudential regulation</td>\n",
       "      <td>Green credit included into its Macro-prudentia...</td>\n",
       "      <td>Asia-Pacific</td>\n",
       "      <td>China</td>\n",
       "      <td>PBoC</td>\n",
       "      <td>Central Bank</td>\n",
       "      <td>2018</td>\n",
       "      <td>The more green assets (green bonds/green lendi...</td>\n",
       "      <td>https://www.scmp.com/business/companies/articl...</td>\n",
       "    </tr>\n",
       "    <tr>\n",
       "      <th>8</th>\n",
       "      <td>9</td>\n",
       "      <td>Cooperation</td>\n",
       "      <td>Market development committee</td>\n",
       "      <td>Establishment of Technical Expert Group (TEG)</td>\n",
       "      <td>Europe</td>\n",
       "      <td>Europe</td>\n",
       "      <td>European Commission</td>\n",
       "      <td>Supranational Government</td>\n",
       "      <td>2018</td>\n",
       "      <td>In June, the EC launched a Technical Expert Gr...</td>\n",
       "      <td>https://www.climatebonds.net/resources/reports...</td>\n",
       "    </tr>\n",
       "    <tr>\n",
       "      <th>9</th>\n",
       "      <td>10</td>\n",
       "      <td>Issuance</td>\n",
       "      <td>Demonstration issuance</td>\n",
       "      <td>Sovreign Green Bond Framework</td>\n",
       "      <td>Europe</td>\n",
       "      <td>Lithuania</td>\n",
       "      <td>Republic of Lithuania</td>\n",
       "      <td>Central Government</td>\n",
       "      <td>2018</td>\n",
       "      <td>The green bond framework states that the use o...</td>\n",
       "      <td>http://www.nasdaqbaltic.com/market/?instrument...</td>\n",
       "    </tr>\n",
       "  </tbody>\n",
       "</table>\n",
       "</div>"
      ],
      "text/plain": [
       "   CBID            Areas                    PolicyType  \\\n",
       "0     1    Policy Signal              Special document   \n",
       "1     2    Policy Signal              Special document   \n",
       "2     3         Issuance        Demonstration issuance   \n",
       "3     4    Policy Signal                 Policy signal   \n",
       "4     5  Standardisation    Green bond/debt guidelines   \n",
       "5     6         Issuance              Project pipeline   \n",
       "6     7      Instruments               Monetary policy   \n",
       "7     8      Instruments         Prudential regulation   \n",
       "8     9      Cooperation  Market development committee   \n",
       "9    10         Issuance        Demonstration issuance   \n",
       "\n",
       "                                              Policy        Region  \\\n",
       "0  NGFS First Comprehensive Report (A call for ac...        Global   \n",
       "1   New Zealand Reserve Bank Climate Change Strategy  Asia-Pacific   \n",
       "2                            First World's Blue Bond        Africa   \n",
       "3                      Climate Financial Risk Forum         Europe   \n",
       "4  Guidelines on the Issuance of Green Bonds unde...  Asia-Pacific   \n",
       "5   Luxembourg Law on Renewable Energy Covered Bonds        Europe   \n",
       "6  Green Bonds Included as Eligigle Collateral fo...  Asia-Pacific   \n",
       "7  Green credit included into its Macro-prudentia...  Asia-Pacific   \n",
       "8      Establishment of Technical Expert Group (TEG)        Europe   \n",
       "9                      Sovreign Green Bond Framework        Europe   \n",
       "\n",
       "       Country                                             Actor   \\\n",
       "0       Global                                               NGFS   \n",
       "1  New Zealand                           New Zealand Reserve Bank   \n",
       "2       Africa                             Republic of Seychelles   \n",
       "3           UK  Prudential Regulation Authority (PRA) and Fina...   \n",
       "4  Philippines     Securities and Exchange Commission Philippines   \n",
       "5   Luxembourg                                Chamber of Deputies   \n",
       "6        China                                               PBoC   \n",
       "7        China                                               PBoC   \n",
       "8       Europe                                European Commission   \n",
       "9    Lithuania                              Republic of Lithuania   \n",
       "\n",
       "                  ActorType  Date  \\\n",
       "0              Central Bank  2019   \n",
       "1              Central Bank  2018   \n",
       "2        Central Government  2018   \n",
       "3              Central Bank  2018   \n",
       "4       Scurities Regulator  2018   \n",
       "5        Central Government  2018   \n",
       "6              Central Bank  2018   \n",
       "7              Central Bank  2018   \n",
       "8  Supranational Government  2018   \n",
       "9        Central Government  2018   \n",
       "\n",
       "                                         Description  \\\n",
       "0  The NGFS report provides six recommendation fo...   \n",
       "1  The strategy focuses on managing the bank’s di...   \n",
       "2  The world's first blue bond issued by the Repu...   \n",
       "3  The objective of the CFRF is to build capacity...   \n",
       "4  The Securities and Exchange Commission Philipp...   \n",
       "5  This is the first law in the world allowing re...   \n",
       "6  PBoC plans to expand the guarantee scope of it...   \n",
       "7  The more green assets (green bonds/green lendi...   \n",
       "8  In June, the EC launched a Technical Expert Gr...   \n",
       "9  The green bond framework states that the use o...   \n",
       "\n",
       "                                               Links  \n",
       "0  https://www.banque-france.fr/en/financial-stab...  \n",
       "1  https://www.rbnz.govt.nz/financial-stability/c...  \n",
       "2  https://www.worldbank.org/en/news/press-releas...  \n",
       "3  https://www.fca.org.uk/news/press-releases/fir...  \n",
       "4  http://www.sec.gov.ph/wp-content/uploads/2015/...  \n",
       "5  http://www.allenovery.com/publications/en-gb/P...  \n",
       "6  https://www.reuters.com/article/us-china-cenba...  \n",
       "7  https://www.scmp.com/business/companies/articl...  \n",
       "8  https://www.climatebonds.net/resources/reports...  \n",
       "9  http://www.nasdaqbaltic.com/market/?instrument...  "
      ]
     },
     "execution_count": 7,
     "metadata": {},
     "output_type": "execute_result"
    }
   ],
   "source": [
    "gb_pol.head(10)"
   ]
  },
  {
   "cell_type": "markdown",
   "metadata": {},
   "source": [
    "### Statistical and Qualitative Analysis"
   ]
  },
  {
   "cell_type": "markdown",
   "metadata": {},
   "source": [
    "These analysis methods will be implemented using functions so that they may repeated for the test cases as well as the actual data set. By generating quantitative and qualitative summaries from the dataset, we will be able to gain insights into our data that may not otherwise be captured by the charts produced for data visualization."
   ]
  },
  {
   "cell_type": "code",
   "execution_count": 8,
   "metadata": {},
   "outputs": [
    {
     "name": "stdout",
     "output_type": "stream",
     "text": [
      "Total Number of Green Bond Policies: 104\n"
     ]
    }
   ],
   "source": [
    "# Identifies total number of policies in given dataset\n",
    "def row_count(df):\n",
    "    return len(df.index)\n",
    "\n",
    "print(f\"Total Number of Green Bond Policies: {row_count(gb_pol)}\") "
   ]
  },
  {
   "cell_type": "code",
   "execution_count": 9,
   "metadata": {},
   "outputs": [
    {
     "name": "stdout",
     "output_type": "stream",
     "text": [
      "Number of Green Bond Policies in USA: 3\n",
      "Number of Green Bond Policies in Brazil: 4\n"
     ]
    }
   ],
   "source": [
    "# Counts total amount of policies for a selected country in given dataset\n",
    "def policies_by_country(df, country):\n",
    "    count = df['Country'].value_counts()[country]\n",
    "    return count\n",
    "\n",
    "selected_country = \"USA\"\n",
    "print(f\"Number of Green Bond Policies in {selected_country}: {policies_by_country(gb_pol, selected_country)}\")\n",
    "\n",
    "selected_country = \"Brazil\"\n",
    "print(f\"Number of Green Bond Policies in {selected_country}: {policies_by_country(gb_pol, selected_country)}\")"
   ]
  },
  {
   "cell_type": "code",
   "execution_count": 10,
   "metadata": {},
   "outputs": [],
   "source": [
    "# Counts total amount of policies for a selected policy area in given dataset\n",
    "def policies_by_area(df, area):\n",
    "    count = df['Areas'].value_counts()[area]\n",
    "    return count\n",
    "\n",
    "# selected_area = \"Standardisation\"\n",
    "# print(f\"Number of Green Bond Policies based on {selected_area}: {policies_by_area(gb_pol, selected_area)}\")\n",
    "\n",
    "# selected_area = \"Cooperation\"\n",
    "# print(f\"Number of Green Bond Policies based on {selected_area}: {policies_by_area(gb_pol, selected_area)}\")"
   ]
  },
  {
   "cell_type": "code",
   "execution_count": 11,
   "metadata": {},
   "outputs": [
    {
     "name": "stdout",
     "output_type": "stream",
     "text": [
      "The Country with the Greatest Amount of Green Bond Policies is China with 30 Policies\n"
     ]
    }
   ],
   "source": [
    "# Identifies country with the greatest amount of policies and provides the amount of policies as well\n",
    "def max_country_policy(df):\n",
    "    country = df['Country'].value_counts().idxmax()\n",
    "    count = df['Country'].value_counts().max()\n",
    "    return country, count\n",
    "\n",
    "country, count = max_country_policy(gb_pol)\n",
    "print(f\"The Country with the Greatest Amount of Green Bond Policies is {country} with {count} Policies\")"
   ]
  },
  {
   "cell_type": "code",
   "execution_count": 12,
   "metadata": {},
   "outputs": [
    {
     "name": "stdout",
     "output_type": "stream",
     "text": [
      "List of Countries with a Green Bond Policy: ['Global', 'New Zealand', 'Africa', 'UK', 'Philippines', 'Luxembourg', 'China', 'Europe', 'Lithuania', 'Hong Kong', 'Chile', 'Japan', 'Peru', 'Belgium', 'Indonesia', 'Malaysia', 'Mexico', 'Nigeria', 'Regional', 'Fiji', 'India', 'Kenya', 'Italy', 'France', 'Brazil', 'Poland', 'Sweden', 'Morocco', 'Singapore', 'USA', 'Nordics', 'Vietnam', 'Netherlands', 'Lebanon']\n"
     ]
    }
   ],
   "source": [
    "# Displays a list of all the unique countries with at least 1 green bond policy in given dataset\n",
    "def countries_with_policy(df):\n",
    "    country_list = list(df[\"Country\"].unique())\n",
    "    return country_list\n",
    "\n",
    "print(f\"List of Countries with a Green Bond Policy: {countries_with_policy(gb_pol)}\")"
   ]
  },
  {
   "cell_type": "code",
   "execution_count": 13,
   "metadata": {},
   "outputs": [
    {
     "name": "stdout",
     "output_type": "stream",
     "text": [
      "Links to Green Bond Policies in USA\n",
      "\n",
      "PACE (Property Assessed Clean Energy): https://www.energy.gov/eere/slsc/property-assessed-clean-energy-programs\n",
      "OPIC’s Green Guaranties : https://www.opic.gov/opic-action/renewable-resources/green-guaranties\n",
      "WHEEL (Warehouse for Energy Efficiency Loans): http://www.naseo.org/wheel ; https://www.climatebonds.net/files/files/-GreenSecuritization-EU_policy-paper_20_04_17-FINAL.pdf\n"
     ]
    }
   ],
   "source": [
    "# Displays a dictionary containing policy names as keys and policy links as values for a selected country\n",
    "def policy_links_for_country(df, country):\n",
    "    policy_loc = df.loc[df[\"Country\"] == country, 'Policy']\n",
    "    link_loc = df.loc[df[\"Country\"] == country, 'Links']\n",
    "    links_dict = {}\n",
    "    for i in range(len(policy_loc)):\n",
    "        links_dict[policy_loc.iloc[i]] = link_loc.iloc[i]\n",
    "    return links_dict\n",
    "\n",
    "selected_country = \"USA\"\n",
    "print(f\"Links to Green Bond Policies in {selected_country}\\n\")\n",
    "links_dict = policy_links_for_country(gb_pol, selected_country)\n",
    "for keys, values in links_dict.items():\n",
    "    print(f\"{keys}: {values}\")"
   ]
  },
  {
   "cell_type": "markdown",
   "metadata": {},
   "source": [
    "### Data Visualization"
   ]
  },
  {
   "cell_type": "markdown",
   "metadata": {},
   "source": [
    "#### Policies by Country and Region Visualization"
   ]
  },
  {
   "cell_type": "code",
   "execution_count": 14,
   "metadata": {},
   "outputs": [
    {
     "data": {
      "text/html": [
       "\n",
       "<style>\n",
       "  #altair-viz-7535b46e5f0a4f21a81bf88ef16a3223.vega-embed {\n",
       "    width: 100%;\n",
       "    display: flex;\n",
       "  }\n",
       "\n",
       "  #altair-viz-7535b46e5f0a4f21a81bf88ef16a3223.vega-embed details,\n",
       "  #altair-viz-7535b46e5f0a4f21a81bf88ef16a3223.vega-embed details summary {\n",
       "    position: relative;\n",
       "  }\n",
       "</style>\n",
       "<div id=\"altair-viz-7535b46e5f0a4f21a81bf88ef16a3223\"></div>\n",
       "<script type=\"text/javascript\">\n",
       "  var VEGA_DEBUG = (typeof VEGA_DEBUG == \"undefined\") ? {} : VEGA_DEBUG;\n",
       "  (function(spec, embedOpt){\n",
       "    let outputDiv = document.currentScript.previousElementSibling;\n",
       "    if (outputDiv.id !== \"altair-viz-7535b46e5f0a4f21a81bf88ef16a3223\") {\n",
       "      outputDiv = document.getElementById(\"altair-viz-7535b46e5f0a4f21a81bf88ef16a3223\");\n",
       "    }\n",
       "    const paths = {\n",
       "      \"vega\": \"https://cdn.jsdelivr.net/npm/vega@5?noext\",\n",
       "      \"vega-lib\": \"https://cdn.jsdelivr.net/npm/vega-lib?noext\",\n",
       "      \"vega-lite\": \"https://cdn.jsdelivr.net/npm/vega-lite@5.15.1?noext\",\n",
       "      \"vega-embed\": \"https://cdn.jsdelivr.net/npm/vega-embed@6?noext\",\n",
       "    };\n",
       "\n",
       "    function maybeLoadScript(lib, version) {\n",
       "      var key = `${lib.replace(\"-\", \"\")}_version`;\n",
       "      return (VEGA_DEBUG[key] == version) ?\n",
       "        Promise.resolve(paths[lib]) :\n",
       "        new Promise(function(resolve, reject) {\n",
       "          var s = document.createElement('script');\n",
       "          document.getElementsByTagName(\"head\")[0].appendChild(s);\n",
       "          s.async = true;\n",
       "          s.onload = () => {\n",
       "            VEGA_DEBUG[key] = version;\n",
       "            return resolve(paths[lib]);\n",
       "          };\n",
       "          s.onerror = () => reject(`Error loading script: ${paths[lib]}`);\n",
       "          s.src = paths[lib];\n",
       "        });\n",
       "    }\n",
       "\n",
       "    function showError(err) {\n",
       "      outputDiv.innerHTML = `<div class=\"error\" style=\"color:red;\">${err}</div>`;\n",
       "      throw err;\n",
       "    }\n",
       "\n",
       "    function displayChart(vegaEmbed) {\n",
       "      vegaEmbed(outputDiv, spec, embedOpt)\n",
       "        .catch(err => showError(`Javascript Error: ${err.message}<br>This usually means there's a typo in your chart specification. See the javascript console for the full traceback.`));\n",
       "    }\n",
       "\n",
       "    if(typeof define === \"function\" && define.amd) {\n",
       "      requirejs.config({paths});\n",
       "      require([\"vega-embed\"], displayChart, err => showError(`Error loading script: ${err.message}`));\n",
       "    } else {\n",
       "      maybeLoadScript(\"vega\", \"5\")\n",
       "        .then(() => maybeLoadScript(\"vega-lite\", \"5.15.1\"))\n",
       "        .then(() => maybeLoadScript(\"vega-embed\", \"6\"))\n",
       "        .catch(showError)\n",
       "        .then(() => displayChart(vegaEmbed));\n",
       "    }\n",
       "  })({\"config\": {\"view\": {\"continuousWidth\": 300, \"continuousHeight\": 300}}, \"data\": {\"name\": \"data-b27affd803a6ff0eb38dda7b7b3b8fdb\"}, \"mark\": {\"type\": \"bar\"}, \"encoding\": {\"color\": {\"field\": \"Region\", \"scale\": {\"scheme\": \"dark2\"}, \"type\": \"nominal\"}, \"x\": {\"field\": \"Country\", \"type\": \"nominal\"}, \"y\": {\"field\": \"Policy Count\", \"type\": \"quantitative\"}}, \"params\": [{\"name\": \"param_1\", \"select\": {\"type\": \"point\", \"fields\": [\"Region\"]}, \"bind\": {\"input\": \"select\", \"options\": [\"Global\", \"Asia-Pacific\", \"Africa\", \"Europe\", \"Latin America\", \"North America\"], \"name\": \"Select Region \"}}], \"title\": \"Count of Green Bond Policies vs Country by Region\", \"transform\": [{\"filter\": {\"param\": \"param_1\"}}], \"width\": 700, \"$schema\": \"https://vega.github.io/schema/vega-lite/v5.15.1.json\", \"datasets\": {\"data-b27affd803a6ff0eb38dda7b7b3b8fdb\": [{\"Country\": \"Africa\", \"CBID\": 1, \"Areas\": 1, \"PolicyType\": 1, \"Policy Count\": 1, \"Region\": \"Africa\", \"Actor \": 1, \"ActorType\": 1, \"Date\": 1, \"Description\": 1, \"Links\": 1}, {\"Country\": \"Belgium\", \"CBID\": 1, \"Areas\": 1, \"PolicyType\": 1, \"Policy Count\": 1, \"Region\": \"Europe\", \"Actor \": 1, \"ActorType\": 1, \"Date\": 1, \"Description\": 1, \"Links\": 1}, {\"Country\": \"Brazil\", \"CBID\": 4, \"Areas\": 4, \"PolicyType\": 4, \"Policy Count\": 4, \"Region\": \"Latin America\", \"Actor \": 4, \"ActorType\": 4, \"Date\": 4, \"Description\": 4, \"Links\": 4}, {\"Country\": \"Chile\", \"CBID\": 1, \"Areas\": 1, \"PolicyType\": 1, \"Policy Count\": 1, \"Region\": \"Latin America\", \"Actor \": 1, \"ActorType\": 1, \"Date\": 1, \"Description\": 1, \"Links\": 1}, {\"Country\": \"China\", \"CBID\": 30, \"Areas\": 30, \"PolicyType\": 30, \"Policy Count\": 30, \"Region\": \"Asia-Pacific\", \"Actor \": 30, \"ActorType\": 30, \"Date\": 30, \"Description\": 27, \"Links\": 30}, {\"Country\": \"Europe\", \"CBID\": 7, \"Areas\": 7, \"PolicyType\": 7, \"Policy Count\": 7, \"Region\": \"Europe\", \"Actor \": 7, \"ActorType\": 7, \"Date\": 7, \"Description\": 7, \"Links\": 7}, {\"Country\": \"Fiji\", \"CBID\": 4, \"Areas\": 4, \"PolicyType\": 4, \"Policy Count\": 4, \"Region\": \"Asia-Pacific\", \"Actor \": 4, \"ActorType\": 4, \"Date\": 4, \"Description\": 4, \"Links\": 4}, {\"Country\": \"France\", \"CBID\": 2, \"Areas\": 2, \"PolicyType\": 2, \"Policy Count\": 2, \"Region\": \"Europe\", \"Actor \": 2, \"ActorType\": 2, \"Date\": 2, \"Description\": 2, \"Links\": 2}, {\"Country\": \"Global\", \"CBID\": 12, \"Areas\": 12, \"PolicyType\": 12, \"Policy Count\": 12, \"Region\": \"Global\", \"Actor \": 12, \"ActorType\": 12, \"Date\": 12, \"Description\": 12, \"Links\": 12}, {\"Country\": \"Hong Kong\", \"CBID\": 1, \"Areas\": 1, \"PolicyType\": 1, \"Policy Count\": 1, \"Region\": \"Asia-Pacific\", \"Actor \": 1, \"ActorType\": 1, \"Date\": 1, \"Description\": 1, \"Links\": 1}, {\"Country\": \"India\", \"CBID\": 2, \"Areas\": 2, \"PolicyType\": 2, \"Policy Count\": 2, \"Region\": \"Asia-Pacific\", \"Actor \": 2, \"ActorType\": 2, \"Date\": 2, \"Description\": 2, \"Links\": 2}, {\"Country\": \"Indonesia\", \"CBID\": 3, \"Areas\": 3, \"PolicyType\": 3, \"Policy Count\": 3, \"Region\": \"Asia-Pacific\", \"Actor \": 3, \"ActorType\": 3, \"Date\": 3, \"Description\": 3, \"Links\": 3}, {\"Country\": \"Italy\", \"CBID\": 1, \"Areas\": 1, \"PolicyType\": 1, \"Policy Count\": 1, \"Region\": \"Europe\", \"Actor \": 1, \"ActorType\": 1, \"Date\": 1, \"Description\": 1, \"Links\": 1}, {\"Country\": \"Japan\", \"CBID\": 2, \"Areas\": 2, \"PolicyType\": 2, \"Policy Count\": 2, \"Region\": \"Asia-Pacific\", \"Actor \": 2, \"ActorType\": 2, \"Date\": 2, \"Description\": 2, \"Links\": 2}, {\"Country\": \"Kenya\", \"CBID\": 1, \"Areas\": 1, \"PolicyType\": 1, \"Policy Count\": 1, \"Region\": \"Africa\", \"Actor \": 1, \"ActorType\": 1, \"Date\": 1, \"Description\": 1, \"Links\": 1}, {\"Country\": \"Lebanon\", \"CBID\": 1, \"Areas\": 1, \"PolicyType\": 1, \"Policy Count\": 1, \"Region\": \"Asia-Pacific\", \"Actor \": 1, \"ActorType\": 1, \"Date\": 1, \"Description\": 1, \"Links\": 1}, {\"Country\": \"Lithuania\", \"CBID\": 1, \"Areas\": 1, \"PolicyType\": 1, \"Policy Count\": 1, \"Region\": \"Europe\", \"Actor \": 1, \"ActorType\": 1, \"Date\": 1, \"Description\": 1, \"Links\": 1}, {\"Country\": \"Luxembourg\", \"CBID\": 2, \"Areas\": 2, \"PolicyType\": 2, \"Policy Count\": 2, \"Region\": \"Europe\", \"Actor \": 2, \"ActorType\": 2, \"Date\": 2, \"Description\": 2, \"Links\": 2}, {\"Country\": \"Malaysia\", \"CBID\": 4, \"Areas\": 4, \"PolicyType\": 4, \"Policy Count\": 4, \"Region\": \"Asia-Pacific\", \"Actor \": 4, \"ActorType\": 4, \"Date\": 4, \"Description\": 4, \"Links\": 4}, {\"Country\": \"Mexico\", \"CBID\": 3, \"Areas\": 3, \"PolicyType\": 3, \"Policy Count\": 3, \"Region\": \"Latin America\", \"Actor \": 3, \"ActorType\": 3, \"Date\": 3, \"Description\": 3, \"Links\": 3}, {\"Country\": \"Morocco\", \"CBID\": 1, \"Areas\": 1, \"PolicyType\": 1, \"Policy Count\": 1, \"Region\": \"Africa\", \"Actor \": 1, \"ActorType\": 1, \"Date\": 1, \"Description\": 1, \"Links\": 1}, {\"Country\": \"Netherlands\", \"CBID\": 3, \"Areas\": 3, \"PolicyType\": 3, \"Policy Count\": 3, \"Region\": \"Europe\", \"Actor \": 3, \"ActorType\": 3, \"Date\": 2, \"Description\": 3, \"Links\": 3}, {\"Country\": \"New Zealand\", \"CBID\": 1, \"Areas\": 1, \"PolicyType\": 1, \"Policy Count\": 1, \"Region\": \"Asia-Pacific\", \"Actor \": 1, \"ActorType\": 1, \"Date\": 1, \"Description\": 1, \"Links\": 1}, {\"Country\": \"Nigeria\", \"CBID\": 2, \"Areas\": 2, \"PolicyType\": 2, \"Policy Count\": 2, \"Region\": \"Africa\", \"Actor \": 2, \"ActorType\": 2, \"Date\": 2, \"Description\": 2, \"Links\": 2}, {\"Country\": \"Nordics\", \"CBID\": 1, \"Areas\": 1, \"PolicyType\": 1, \"Policy Count\": 1, \"Region\": \"Europe\", \"Actor \": 1, \"ActorType\": 1, \"Date\": 1, \"Description\": 1, \"Links\": 1}, {\"Country\": \"Peru\", \"CBID\": 1, \"Areas\": 1, \"PolicyType\": 1, \"Policy Count\": 1, \"Region\": \"Latin America\", \"Actor \": 1, \"ActorType\": 1, \"Date\": 1, \"Description\": 1, \"Links\": 1}, {\"Country\": \"Philippines\", \"CBID\": 1, \"Areas\": 1, \"PolicyType\": 1, \"Policy Count\": 1, \"Region\": \"Asia-Pacific\", \"Actor \": 1, \"ActorType\": 1, \"Date\": 1, \"Description\": 1, \"Links\": 1}, {\"Country\": \"Poland\", \"CBID\": 1, \"Areas\": 1, \"PolicyType\": 1, \"Policy Count\": 1, \"Region\": \"Europe\", \"Actor \": 1, \"ActorType\": 1, \"Date\": 1, \"Description\": 1, \"Links\": 1}, {\"Country\": \"Regional\", \"CBID\": 1, \"Areas\": 1, \"PolicyType\": 1, \"Policy Count\": 1, \"Region\": \"Asia-Pacific\", \"Actor \": 1, \"ActorType\": 1, \"Date\": 1, \"Description\": 1, \"Links\": 1}, {\"Country\": \"Singapore\", \"CBID\": 1, \"Areas\": 1, \"PolicyType\": 1, \"Policy Count\": 1, \"Region\": \"Asia-Pacific\", \"Actor \": 1, \"ActorType\": 1, \"Date\": 1, \"Description\": 1, \"Links\": 1}, {\"Country\": \"Sweden\", \"CBID\": 1, \"Areas\": 1, \"PolicyType\": 1, \"Policy Count\": 1, \"Region\": \"Europe\", \"Actor \": 1, \"ActorType\": 1, \"Date\": 1, \"Description\": 1, \"Links\": 1}, {\"Country\": \"UK\", \"CBID\": 3, \"Areas\": 3, \"PolicyType\": 3, \"Policy Count\": 3, \"Region\": \"Europe\", \"Actor \": 3, \"ActorType\": 3, \"Date\": 3, \"Description\": 3, \"Links\": 3}, {\"Country\": \"USA\", \"CBID\": 3, \"Areas\": 3, \"PolicyType\": 3, \"Policy Count\": 3, \"Region\": \"North America\", \"Actor \": 3, \"ActorType\": 3, \"Date\": 3, \"Description\": 3, \"Links\": 3}, {\"Country\": \"Vietnam\", \"CBID\": 1, \"Areas\": 1, \"PolicyType\": 1, \"Policy Count\": 1, \"Region\": \"Asia-Pacific\", \"Actor \": 1, \"ActorType\": 1, \"Date\": 1, \"Description\": 1, \"Links\": 1}]}}, {\"mode\": \"vega-lite\"});\n",
       "</script>"
      ],
      "text/plain": [
       "alt.Chart(...)"
      ]
     },
     "execution_count": 14,
     "metadata": {},
     "output_type": "execute_result"
    }
   ],
   "source": [
    "def policies_vs_country(df):\n",
    "    # Creates new dataframe to aggregate count of policies grouped by country\n",
    "    df1 = df.groupby(\"Country\").count().reset_index()\n",
    "    df1=df1.rename(columns={\"Policy\": \"Policy Count\"})\n",
    "    for i in range(len(df1[\"Country\"])):\n",
    "        region = df.loc[df[\"Country\"] == df1[\"Country\"][i], \"Region\"].iloc[0]\n",
    "        df1.loc[i, \"Region\"] = region\n",
    "\n",
    "    # Creates region select dropdown\n",
    "    regions = list(df[\"Region\"].unique())\n",
    "    region_dropdown = alt.binding_select(options = regions, name = \"Select Region \")\n",
    "    region_select = alt.selection_point(fields=[\"Region\"], bind = region_dropdown)\n",
    "\n",
    "    # Creates bar chart with embedded region filter dropdown and set color scheme\n",
    "    fig = alt.Chart(df1).mark_bar().encode(\n",
    "        x = \"Country\",\n",
    "        y = \"Policy Count\",\n",
    "        color = alt.Color(\"Region\", scale=alt.Scale(scheme = \"dark2\")) \n",
    "        ).add_params(region_select\n",
    "        ).transform_filter(region_select\n",
    "        ).properties(width = 700, title = \"Count of Green Bond Policies vs Country by Region\")\n",
    "    \n",
    "    return fig\n",
    "\n",
    "policies_vs_country(gb_pol)"
   ]
  },
  {
   "cell_type": "markdown",
   "metadata": {},
   "source": [
    "##### Analysis"
   ]
  },
  {
   "cell_type": "markdown",
   "metadata": {},
   "source": [
    "* In the comprehensive view, the bar chart compares all the countries in the dataset by the amount of green bond policies they each have\n",
    "    * Each of the bars are further differentiated by color according to which region each of the countries belong to\n",
    "    * As depicted in the bar chart, China is a clear leader in the number of green bond policies, but there also exists many international policies indicating a global recognition for the significance of green bonds\n",
    "* When the bar chart is filtered by region, the graph offers a granular view by displaying the green bond legislation in each country compared to other countries in the same region\n",
    "    * Many of the countries within the same region have similar amount of green bond policies, so it is likely that geopolitical factors are in play when considering to implement green bonds \n",
    "    * However, the graph also demonstrates that developed countries are not necessarily ahead of developing countries in integrating green bonds, so prioritizing sustainability in legisliation will likely make the most impact in the use of green bonds by each country"
   ]
  },
  {
   "cell_type": "markdown",
   "metadata": {},
   "source": [
    "#### Policies by Policy Area Visualization"
   ]
  },
  {
   "cell_type": "code",
   "execution_count": 15,
   "metadata": {},
   "outputs": [
    {
     "data": {
      "image/png": "[encoded data removed]",
      "text/plain": [
       "<Figure size 640x480 with 1 Axes>"
      ]
     },
     "metadata": {},
     "output_type": "display_data"
    }
   ],
   "source": [
    "def policies_vs_area(df):\n",
    "\t# Creates new dataframe to aggregate count of policies grouped by area\n",
    "\tdf1 = df.groupby(\"Areas\").count().reset_index()\n",
    "\t\n",
    "\t# Generates pie chart \n",
    "\tslices = list(df1[\"Policy\"])\n",
    "\tlabels = list(df1[\"Areas\"].unique())\n",
    "\texplode = [0, 0, 0, 0, 0, 0.05]\n",
    "\tsns.set_style(\"whitegrid\")\n",
    "\tcolors = sns.color_palette(\"muted\")[0:5]\n",
    "\tcolors.append(sns.color_palette(\"muted\")[8])\n",
    "\tplt.pie(slices, labels = labels, \n",
    "\t\tcolors = colors, wedgeprops = {\"edgecolor\": \"black\"}, \n",
    "\t\texplode = explode, autopct = \"%1.1f%%\")\n",
    "\tplt.title(\"Green Bond Policies by Policy Area\")\n",
    "\tplt.tight_layout()\n",
    "\tplt.show()\n",
    "\t\n",
    "policies_vs_area(gb_pol)"
   ]
  },
  {
   "cell_type": "markdown",
   "metadata": {},
   "source": [
    "##### Analysis"
   ]
  },
  {
   "cell_type": "markdown",
   "metadata": {},
   "source": [
    "* Each slice on the pie chart depicts the share of green bond policies associated with each policy area\n",
    "* The standardisation policy area is associated with the largest amount of policies, implying that governmental bodies are attempting to streamline of the use of green bonds, as green bonds often entail complex designs and partnerships to implement\n",
    "* The instruments slice illustrates that legislation is linking green bonds with policy making as government are trying to incentivize the use of green bonds to advance sustainability oriented goals\n",
    "* Many of these green bond policies are also cooperative, highlighting that green bonds are relevant tools for international initiatives, which is particularly important since climate change is a global problem that will require a coordinated effort from various countries to address\n",
    "* Yet, there are not many green bond policies related to investing\n",
    "    * Something countries will likely need to focus on in the future to drive sustainable change is to enhance regulations and disclosure requirements regarding green bonds for better transparency, thereby attracting more investors"
   ]
  },
  {
   "cell_type": "markdown",
   "metadata": {},
   "source": [
    "#### Policies over Time Visualization"
   ]
  },
  {
   "cell_type": "code",
   "execution_count": 16,
   "metadata": {},
   "outputs": [
    {
     "data": {
      "application/vnd.plotly.v1+json": {
       "config": {
        "plotlyServerURL": "https://plot.ly"
       },
       "data": [
        {
         "hovertemplate": "Year=%{x}<br>Policy Count=%{y}<extra></extra>",
         "legendgroup": "",
         "line": {
          "color": "#636efa",
          "dash": "solid"
         },
         "marker": {
          "symbol": "circle"
         },
         "mode": "lines+markers",
         "name": "",
         "orientation": "v",
         "showlegend": false,
         "type": "scatter",
         "x": [
          "1995",
          "2005",
          "2009",
          "2010",
          "2011",
          "2012",
          "2013",
          "2014",
          "2015",
          "2016",
          "2017",
          "2018"
         ],
         "xaxis": "x",
         "y": [
          1,
          1,
          1,
          1,
          1,
          4,
          2,
          4,
          14,
          25,
          22,
          26
         ],
         "yaxis": "y"
        }
       ],
       "layout": {
        "legend": {
         "tracegroupgap": 0
        },
        "template": {
         "data": {
          "bar": [
           {
            "error_x": {
             "color": "#2a3f5f"
            },
            "error_y": {
             "color": "#2a3f5f"
            },
            "marker": {
             "line": {
              "color": "#E5ECF6",
              "width": 0.5
             },
             "pattern": {
              "fillmode": "overlay",
              "size": 10,
              "solidity": 0.2
             }
            },
            "type": "bar"
           }
          ],
          "barpolar": [
           {
            "marker": {
             "line": {
              "color": "#E5ECF6",
              "width": 0.5
             },
             "pattern": {
              "fillmode": "overlay",
              "size": 10,
              "solidity": 0.2
             }
            },
            "type": "barpolar"
           }
          ],
          "carpet": [
           {
            "aaxis": {
             "endlinecolor": "#2a3f5f",
             "gridcolor": "white",
             "linecolor": "white",
             "minorgridcolor": "white",
             "startlinecolor": "#2a3f5f"
            },
            "baxis": {
             "endlinecolor": "#2a3f5f",
             "gridcolor": "white",
             "linecolor": "white",
             "minorgridcolor": "white",
             "startlinecolor": "#2a3f5f"
            },
            "type": "carpet"
           }
          ],
          "choropleth": [
           {
            "colorbar": {
             "outlinewidth": 0,
             "ticks": ""
            },
            "type": "choropleth"
           }
          ],
          "contour": [
           {
            "colorbar": {
             "outlinewidth": 0,
             "ticks": ""
            },
            "colorscale": [
             [
              0,
              "#0d0887"
             ],
             [
              0.1111111111111111,
              "#46039f"
             ],
             [
              0.2222222222222222,
              "#7201a8"
             ],
             [
              0.3333333333333333,
              "#9c179e"
             ],
             [
              0.4444444444444444,
              "#bd3786"
             ],
             [
              0.5555555555555556,
              "#d8576b"
             ],
             [
              0.6666666666666666,
              "#ed7953"
             ],
             [
              0.7777777777777778,
              "#fb9f3a"
             ],
             [
              0.8888888888888888,
              "#fdca26"
             ],
             [
              1,
              "#f0f921"
             ]
            ],
            "type": "contour"
           }
          ],
          "contourcarpet": [
           {
            "colorbar": {
             "outlinewidth": 0,
             "ticks": ""
            },
            "type": "contourcarpet"
           }
          ],
          "heatmap": [
           {
            "colorbar": {
             "outlinewidth": 0,
             "ticks": ""
            },
            "colorscale": [
             [
              0,
              "#0d0887"
             ],
             [
              0.1111111111111111,
              "#46039f"
             ],
             [
              0.2222222222222222,
              "#7201a8"
             ],
             [
              0.3333333333333333,
              "#9c179e"
             ],
             [
              0.4444444444444444,
              "#bd3786"
             ],
             [
              0.5555555555555556,
              "#d8576b"
             ],
             [
              0.6666666666666666,
              "#ed7953"
             ],
             [
              0.7777777777777778,
              "#fb9f3a"
             ],
             [
              0.8888888888888888,
              "#fdca26"
             ],
             [
              1,
              "#f0f921"
             ]
            ],
            "type": "heatmap"
           }
          ],
          "heatmapgl": [
           {
            "colorbar": {
             "outlinewidth": 0,
             "ticks": ""
            },
            "colorscale": [
             [
              0,
              "#0d0887"
             ],
             [
              0.1111111111111111,
              "#46039f"
             ],
             [
              0.2222222222222222,
              "#7201a8"
             ],
             [
              0.3333333333333333,
              "#9c179e"
             ],
             [
              0.4444444444444444,
              "#bd3786"
             ],
             [
              0.5555555555555556,
              "#d8576b"
             ],
             [
              0.6666666666666666,
              "#ed7953"
             ],
             [
              0.7777777777777778,
              "#fb9f3a"
             ],
             [
              0.8888888888888888,
              "#fdca26"
             ],
             [
              1,
              "#f0f921"
             ]
            ],
            "type": "heatmapgl"
           }
          ],
          "histogram": [
           {
            "marker": {
             "pattern": {
              "fillmode": "overlay",
              "size": 10,
              "solidity": 0.2
             }
            },
            "type": "histogram"
           }
          ],
          "histogram2d": [
           {
            "colorbar": {
             "outlinewidth": 0,
             "ticks": ""
            },
            "colorscale": [
             [
              0,
              "#0d0887"
             ],
             [
              0.1111111111111111,
              "#46039f"
             ],
             [
              0.2222222222222222,
              "#7201a8"
             ],
             [
              0.3333333333333333,
              "#9c179e"
             ],
             [
              0.4444444444444444,
              "#bd3786"
             ],
             [
              0.5555555555555556,
              "#d8576b"
             ],
             [
              0.6666666666666666,
              "#ed7953"
             ],
             [
              0.7777777777777778,
              "#fb9f3a"
             ],
             [
              0.8888888888888888,
              "#fdca26"
             ],
             [
              1,
              "#f0f921"
             ]
            ],
            "type": "histogram2d"
           }
          ],
          "histogram2dcontour": [
           {
            "colorbar": {
             "outlinewidth": 0,
             "ticks": ""
            },
            "colorscale": [
             [
              0,
              "#0d0887"
             ],
             [
              0.1111111111111111,
              "#46039f"
             ],
             [
              0.2222222222222222,
              "#7201a8"
             ],
             [
              0.3333333333333333,
              "#9c179e"
             ],
             [
              0.4444444444444444,
              "#bd3786"
             ],
             [
              0.5555555555555556,
              "#d8576b"
             ],
             [
              0.6666666666666666,
              "#ed7953"
             ],
             [
              0.7777777777777778,
              "#fb9f3a"
             ],
             [
              0.8888888888888888,
              "#fdca26"
             ],
             [
              1,
              "#f0f921"
             ]
            ],
            "type": "histogram2dcontour"
           }
          ],
          "mesh3d": [
           {
            "colorbar": {
             "outlinewidth": 0,
             "ticks": ""
            },
            "type": "mesh3d"
           }
          ],
          "parcoords": [
           {
            "line": {
             "colorbar": {
              "outlinewidth": 0,
              "ticks": ""
             }
            },
            "type": "parcoords"
           }
          ],
          "pie": [
           {
            "automargin": true,
            "type": "pie"
           }
          ],
          "scatter": [
           {
            "fillpattern": {
             "fillmode": "overlay",
             "size": 10,
             "solidity": 0.2
            },
            "type": "scatter"
           }
          ],
          "scatter3d": [
           {
            "line": {
             "colorbar": {
              "outlinewidth": 0,
              "ticks": ""
             }
            },
            "marker": {
             "colorbar": {
              "outlinewidth": 0,
              "ticks": ""
             }
            },
            "type": "scatter3d"
           }
          ],
          "scattercarpet": [
           {
            "marker": {
             "colorbar": {
              "outlinewidth": 0,
              "ticks": ""
             }
            },
            "type": "scattercarpet"
           }
          ],
          "scattergeo": [
           {
            "marker": {
             "colorbar": {
              "outlinewidth": 0,
              "ticks": ""
             }
            },
            "type": "scattergeo"
           }
          ],
          "scattergl": [
           {
            "marker": {
             "colorbar": {
              "outlinewidth": 0,
              "ticks": ""
             }
            },
            "type": "scattergl"
           }
          ],
          "scattermapbox": [
           {
            "marker": {
             "colorbar": {
              "outlinewidth": 0,
              "ticks": ""
             }
            },
            "type": "scattermapbox"
           }
          ],
          "scatterpolar": [
           {
            "marker": {
             "colorbar": {
              "outlinewidth": 0,
              "ticks": ""
             }
            },
            "type": "scatterpolar"
           }
          ],
          "scatterpolargl": [
           {
            "marker": {
             "colorbar": {
              "outlinewidth": 0,
              "ticks": ""
             }
            },
            "type": "scatterpolargl"
           }
          ],
          "scatterternary": [
           {
            "marker": {
             "colorbar": {
              "outlinewidth": 0,
              "ticks": ""
             }
            },
            "type": "scatterternary"
           }
          ],
          "surface": [
           {
            "colorbar": {
             "outlinewidth": 0,
             "ticks": ""
            },
            "colorscale": [
             [
              0,
              "#0d0887"
             ],
             [
              0.1111111111111111,
              "#46039f"
             ],
             [
              0.2222222222222222,
              "#7201a8"
             ],
             [
              0.3333333333333333,
              "#9c179e"
             ],
             [
              0.4444444444444444,
              "#bd3786"
             ],
             [
              0.5555555555555556,
              "#d8576b"
             ],
             [
              0.6666666666666666,
              "#ed7953"
             ],
             [
              0.7777777777777778,
              "#fb9f3a"
             ],
             [
              0.8888888888888888,
              "#fdca26"
             ],
             [
              1,
              "#f0f921"
             ]
            ],
            "type": "surface"
           }
          ],
          "table": [
           {
            "cells": {
             "fill": {
              "color": "#EBF0F8"
             },
             "line": {
              "color": "white"
             }
            },
            "header": {
             "fill": {
              "color": "#C8D4E3"
             },
             "line": {
              "color": "white"
             }
            },
            "type": "table"
           }
          ]
         },
         "layout": {
          "annotationdefaults": {
           "arrowcolor": "#2a3f5f",
           "arrowhead": 0,
           "arrowwidth": 1
          },
          "autotypenumbers": "strict",
          "coloraxis": {
           "colorbar": {
            "outlinewidth": 0,
            "ticks": ""
           }
          },
          "colorscale": {
           "diverging": [
            [
             0,
             "#8e0152"
            ],
            [
             0.1,
             "#c51b7d"
            ],
            [
             0.2,
             "#de77ae"
            ],
            [
             0.3,
             "#f1b6da"
            ],
            [
             0.4,
             "#fde0ef"
            ],
            [
             0.5,
             "#f7f7f7"
            ],
            [
             0.6,
             "#e6f5d0"
            ],
            [
             0.7,
             "#b8e186"
            ],
            [
             0.8,
             "#7fbc41"
            ],
            [
             0.9,
             "#4d9221"
            ],
            [
             1,
             "#276419"
            ]
           ],
           "sequential": [
            [
             0,
             "#0d0887"
            ],
            [
             0.1111111111111111,
             "#46039f"
            ],
            [
             0.2222222222222222,
             "#7201a8"
            ],
            [
             0.3333333333333333,
             "#9c179e"
            ],
            [
             0.4444444444444444,
             "#bd3786"
            ],
            [
             0.5555555555555556,
             "#d8576b"
            ],
            [
             0.6666666666666666,
             "#ed7953"
            ],
            [
             0.7777777777777778,
             "#fb9f3a"
            ],
            [
             0.8888888888888888,
             "#fdca26"
            ],
            [
             1,
             "#f0f921"
            ]
           ],
           "sequentialminus": [
            [
             0,
             "#0d0887"
            ],
            [
             0.1111111111111111,
             "#46039f"
            ],
            [
             0.2222222222222222,
             "#7201a8"
            ],
            [
             0.3333333333333333,
             "#9c179e"
            ],
            [
             0.4444444444444444,
             "#bd3786"
            ],
            [
             0.5555555555555556,
             "#d8576b"
            ],
            [
             0.6666666666666666,
             "#ed7953"
            ],
            [
             0.7777777777777778,
             "#fb9f3a"
            ],
            [
             0.8888888888888888,
             "#fdca26"
            ],
            [
             1,
             "#f0f921"
            ]
           ]
          },
          "colorway": [
           "#636efa",
           "#EF553B",
           "#00cc96",
           "#ab63fa",
           "#FFA15A",
           "#19d3f3",
           "#FF6692",
           "#B6E880",
           "#FF97FF",
           "#FECB52"
          ],
          "font": {
           "color": "#2a3f5f"
          },
          "geo": {
           "bgcolor": "white",
           "lakecolor": "white",
           "landcolor": "#E5ECF6",
           "showlakes": true,
           "showland": true,
           "subunitcolor": "white"
          },
          "hoverlabel": {
           "align": "left"
          },
          "hovermode": "closest",
          "mapbox": {
           "style": "light"
          },
          "paper_bgcolor": "white",
          "plot_bgcolor": "#E5ECF6",
          "polar": {
           "angularaxis": {
            "gridcolor": "white",
            "linecolor": "white",
            "ticks": ""
           },
           "bgcolor": "#E5ECF6",
           "radialaxis": {
            "gridcolor": "white",
            "linecolor": "white",
            "ticks": ""
           }
          },
          "scene": {
           "xaxis": {
            "backgroundcolor": "#E5ECF6",
            "gridcolor": "white",
            "gridwidth": 2,
            "linecolor": "white",
            "showbackground": true,
            "ticks": "",
            "zerolinecolor": "white"
           },
           "yaxis": {
            "backgroundcolor": "#E5ECF6",
            "gridcolor": "white",
            "gridwidth": 2,
            "linecolor": "white",
            "showbackground": true,
            "ticks": "",
            "zerolinecolor": "white"
           },
           "zaxis": {
            "backgroundcolor": "#E5ECF6",
            "gridcolor": "white",
            "gridwidth": 2,
            "linecolor": "white",
            "showbackground": true,
            "ticks": "",
            "zerolinecolor": "white"
           }
          },
          "shapedefaults": {
           "line": {
            "color": "#2a3f5f"
           }
          },
          "ternary": {
           "aaxis": {
            "gridcolor": "white",
            "linecolor": "white",
            "ticks": ""
           },
           "baxis": {
            "gridcolor": "white",
            "linecolor": "white",
            "ticks": ""
           },
           "bgcolor": "#E5ECF6",
           "caxis": {
            "gridcolor": "white",
            "linecolor": "white",
            "ticks": ""
           }
          },
          "title": {
           "x": 0.05
          },
          "xaxis": {
           "automargin": true,
           "gridcolor": "white",
           "linecolor": "white",
           "ticks": "",
           "title": {
            "standoff": 15
           },
           "zerolinecolor": "white",
           "zerolinewidth": 2
          },
          "yaxis": {
           "automargin": true,
           "gridcolor": "white",
           "linecolor": "white",
           "ticks": "",
           "title": {
            "standoff": 15
           },
           "zerolinecolor": "white",
           "zerolinewidth": 2
          }
         }
        },
        "title": {
         "text": "Growth in Green Bond Policies"
        },
        "xaxis": {
         "anchor": "y",
         "domain": [
          0,
          1
         ],
         "title": {
          "text": "Year"
         }
        },
        "yaxis": {
         "anchor": "x",
         "domain": [
          0,
          1
         ],
         "title": {
          "text": "Policy Count"
         }
        }
       }
      }
     },
     "metadata": {},
     "output_type": "display_data"
    }
   ],
   "source": [
    "def policies_by_date(df):\n",
    "    # Creates new dataframe to aggregate count of policies grouped by and sorted by Date\n",
    "    df1 = df.groupby(\"Date\").count().reset_index()\n",
    "    df1.sort_values(by=[\"Date\"])\n",
    "    df1=df1.rename(columns={\"Policy\": \"Policy Count\"})\n",
    "    df1=df1.rename(columns={\"Date\": \"Year\"})\n",
    "\n",
    "    # Removes 2019 since data for that year is incomplete and would skew the graph\n",
    "    df1 = df1.drop(df1[df1[\"Year\"] == \"2019\"].index)\n",
    "    \n",
    "    # Generates line graph\n",
    "    fig = px.line(df1, x = \"Year\", y = \"Policy Count\", title = \"Growth in Green Bond Policies\", markers=True)\n",
    "    fig.show()\n",
    "\n",
    "policies_by_date(gb_pol)"
   ]
  },
  {
   "cell_type": "markdown",
   "metadata": {},
   "source": [
    "##### Analysis"
   ]
  },
  {
   "cell_type": "markdown",
   "metadata": {},
   "source": [
    "* While the framework for green bonds has existed since 1995 as illustrated by the line plot, there has been a sharp increase in the amount of green bond policies in the past decade\n",
    "    * The rapid growth in green bond policies can likely be attributed to the heightened awareness to the escalating threat of climate change in the recent past and the use of green bonds as a mechanism to address the issue\n",
    "    * Based on the current trend, the amount of green bond policies will likely experience a further surge as government bodies focus on driving sustainable change, leading to more countries adopting green bonds"
   ]
  },
  {
   "cell_type": "markdown",
   "metadata": {},
   "source": [
    "### Test Cases"
   ]
  },
  {
   "cell_type": "markdown",
   "metadata": {},
   "source": [
    "#### Test Data I/O and Cleaning"
   ]
  },
  {
   "cell_type": "code",
   "execution_count": 17,
   "metadata": {},
   "outputs": [],
   "source": [
    "# reads in test dataset as a pandas dataframe\n",
    "gb_test = pd.read_excel(\"gb-policy-test-data.xlsx\")\n",
    "\n",
    "# Fills in country value as global if the corresponding region value is also global\n",
    "gb_test.loc[gb_test[\"Region\"] == \"Global\", \"Country\"] = \"Global\"\n",
    "\n",
    "# Fills in the rest of the empty cells for the Country column with the value of Unknown\n",
    "gb_test[\"Country\"] = gb_test[\"Country\"].fillna(\"Unknown\")\n",
    "\n",
    "# Fills in the empty cells for the ActorType column with the value of Unknown\n",
    "gb_test[\"ActorType\"] = gb_test[\"ActorType\"].fillna(\"Unknown\")\n",
    "\n",
    "# Fills in the empty cells for the Links column with the value of No Link Available\n",
    "gb_test[\"Links\"] = gb_test[\"Links\"].fillna(\"No Link Available\")\n",
    "\n",
    "# Slices the date so that the column only contains the year\n",
    "gb_test[\"Date\"] = gb_test[\"Date\"].str.slice(4)"
   ]
  },
  {
   "cell_type": "code",
   "execution_count": 18,
   "metadata": {},
   "outputs": [
    {
     "data": {
      "text/html": [
       "<div>\n",
       "<style scoped>\n",
       "    .dataframe tbody tr th:only-of-type {\n",
       "        vertical-align: middle;\n",
       "    }\n",
       "\n",
       "    .dataframe tbody tr th {\n",
       "        vertical-align: top;\n",
       "    }\n",
       "\n",
       "    .dataframe thead th {\n",
       "        text-align: right;\n",
       "    }\n",
       "</style>\n",
       "<table border=\"1\" class=\"dataframe\">\n",
       "  <thead>\n",
       "    <tr style=\"text-align: right;\">\n",
       "      <th></th>\n",
       "      <th>CBID</th>\n",
       "      <th>Areas</th>\n",
       "      <th>PolicyType</th>\n",
       "      <th>Policy</th>\n",
       "      <th>Region</th>\n",
       "      <th>Country</th>\n",
       "      <th>Actor</th>\n",
       "      <th>ActorType</th>\n",
       "      <th>Date</th>\n",
       "      <th>Description</th>\n",
       "      <th>Links</th>\n",
       "    </tr>\n",
       "  </thead>\n",
       "  <tbody>\n",
       "    <tr>\n",
       "      <th>0</th>\n",
       "      <td>1</td>\n",
       "      <td>Policy Signal</td>\n",
       "      <td>Special document</td>\n",
       "      <td>NGFS First Comprehensive Report (A call for ac...</td>\n",
       "      <td>Global</td>\n",
       "      <td>Global</td>\n",
       "      <td>NGFS</td>\n",
       "      <td>Central Bank</td>\n",
       "      <td>2019</td>\n",
       "      <td>The NGFS report provides six recommendation fo...</td>\n",
       "      <td>https://www.banque-france.fr/en/financial-stab...</td>\n",
       "    </tr>\n",
       "    <tr>\n",
       "      <th>1</th>\n",
       "      <td>2</td>\n",
       "      <td>Policy Signal</td>\n",
       "      <td>Special document</td>\n",
       "      <td>New Zealand Reserve Bank Climate Change Strategy</td>\n",
       "      <td>Asia-Pacific</td>\n",
       "      <td>New Zealand</td>\n",
       "      <td>New Zealand Reserve Bank</td>\n",
       "      <td>Central Bank</td>\n",
       "      <td>2018</td>\n",
       "      <td>The strategy focuses on managing the bank’s di...</td>\n",
       "      <td>https://www.rbnz.govt.nz/financial-stability/c...</td>\n",
       "    </tr>\n",
       "    <tr>\n",
       "      <th>2</th>\n",
       "      <td>3</td>\n",
       "      <td>Issuance</td>\n",
       "      <td>Demonstration issuance</td>\n",
       "      <td>First World's Blue Bond</td>\n",
       "      <td>Africa</td>\n",
       "      <td>Africa</td>\n",
       "      <td>Republic of Seychelles</td>\n",
       "      <td>Central Government</td>\n",
       "      <td>2018</td>\n",
       "      <td>The world's first blue bond issued by the Repu...</td>\n",
       "      <td>https://www.worldbank.org/en/news/press-releas...</td>\n",
       "    </tr>\n",
       "    <tr>\n",
       "      <th>3</th>\n",
       "      <td>4</td>\n",
       "      <td>Policy Signal</td>\n",
       "      <td>Policy signal</td>\n",
       "      <td>Climate Financial Risk Forum</td>\n",
       "      <td>Europe</td>\n",
       "      <td>UK</td>\n",
       "      <td>Prudential Regulation Authority (PRA) and Fina...</td>\n",
       "      <td>Central Bank</td>\n",
       "      <td>2018</td>\n",
       "      <td>The objective of the CFRF is to build capacity...</td>\n",
       "      <td>https://www.fca.org.uk/news/press-releases/fir...</td>\n",
       "    </tr>\n",
       "    <tr>\n",
       "      <th>4</th>\n",
       "      <td>5</td>\n",
       "      <td>Standardisation</td>\n",
       "      <td>Green bond/debt guidelines</td>\n",
       "      <td>Guidelines on the Issuance of Green Bonds unde...</td>\n",
       "      <td>Asia-Pacific</td>\n",
       "      <td>Philippines</td>\n",
       "      <td>Securities and Exchange Commission Philippines</td>\n",
       "      <td>Scurities Regulator</td>\n",
       "      <td>2018</td>\n",
       "      <td>The Securities and Exchange Commission Philipp...</td>\n",
       "      <td>http://www.sec.gov.ph/wp-content/uploads/2015/...</td>\n",
       "    </tr>\n",
       "  </tbody>\n",
       "</table>\n",
       "</div>"
      ],
      "text/plain": [
       "   CBID            Areas                  PolicyType  \\\n",
       "0     1    Policy Signal            Special document   \n",
       "1     2    Policy Signal            Special document   \n",
       "2     3         Issuance      Demonstration issuance   \n",
       "3     4    Policy Signal               Policy signal   \n",
       "4     5  Standardisation  Green bond/debt guidelines   \n",
       "\n",
       "                                              Policy        Region  \\\n",
       "0  NGFS First Comprehensive Report (A call for ac...        Global   \n",
       "1   New Zealand Reserve Bank Climate Change Strategy  Asia-Pacific   \n",
       "2                            First World's Blue Bond        Africa   \n",
       "3                      Climate Financial Risk Forum         Europe   \n",
       "4  Guidelines on the Issuance of Green Bonds unde...  Asia-Pacific   \n",
       "\n",
       "       Country                                             Actor   \\\n",
       "0       Global                                               NGFS   \n",
       "1  New Zealand                           New Zealand Reserve Bank   \n",
       "2       Africa                             Republic of Seychelles   \n",
       "3           UK  Prudential Regulation Authority (PRA) and Fina...   \n",
       "4  Philippines     Securities and Exchange Commission Philippines   \n",
       "\n",
       "             ActorType  Date  \\\n",
       "0         Central Bank  2019   \n",
       "1         Central Bank  2018   \n",
       "2   Central Government  2018   \n",
       "3         Central Bank  2018   \n",
       "4  Scurities Regulator  2018   \n",
       "\n",
       "                                         Description  \\\n",
       "0  The NGFS report provides six recommendation fo...   \n",
       "1  The strategy focuses on managing the bank’s di...   \n",
       "2  The world's first blue bond issued by the Repu...   \n",
       "3  The objective of the CFRF is to build capacity...   \n",
       "4  The Securities and Exchange Commission Philipp...   \n",
       "\n",
       "                                               Links  \n",
       "0  https://www.banque-france.fr/en/financial-stab...  \n",
       "1  https://www.rbnz.govt.nz/financial-stability/c...  \n",
       "2  https://www.worldbank.org/en/news/press-releas...  \n",
       "3  https://www.fca.org.uk/news/press-releases/fir...  \n",
       "4  http://www.sec.gov.ph/wp-content/uploads/2015/...  "
      ]
     },
     "execution_count": 18,
     "metadata": {},
     "output_type": "execute_result"
    }
   ],
   "source": [
    "gb_test.head(5)"
   ]
  },
  {
   "cell_type": "markdown",
   "metadata": {},
   "source": [
    "#### Test Quantitative Analysis"
   ]
  },
  {
   "cell_type": "code",
   "execution_count": 19,
   "metadata": {},
   "outputs": [
    {
     "name": "stdout",
     "output_type": "stream",
     "text": [
      "Total Number of Green Bond Policies: 80\n",
      "True\n"
     ]
    }
   ],
   "source": [
    "# Tests row_count method\n",
    "print(f\"Total Number of Green Bond Policies: {row_count(gb_test)}\") \n",
    "total_count = 80\n",
    "if row_count(gb_test) == total_count:\n",
    "    print(\"True\")\n",
    "else:\n",
    "    print(\"False\")"
   ]
  },
  {
   "cell_type": "code",
   "execution_count": 20,
   "metadata": {},
   "outputs": [
    {
     "name": "stdout",
     "output_type": "stream",
     "text": [
      "Number of Green Bond Policies in Brazil: 3\n",
      "True\n"
     ]
    }
   ],
   "source": [
    "# Tests policies_by_country method\n",
    "selected_country = \"Brazil\"\n",
    "country_count = 3\n",
    "print(f\"Number of Green Bond Policies in {selected_country}: {policies_by_country(gb_test, selected_country)}\")\n",
    "if policies_by_country(gb_test, selected_country) == country_count:\n",
    "    print(\"True\")\n",
    "else:\n",
    "    print(\"False\")"
   ]
  },
  {
   "cell_type": "code",
   "execution_count": 21,
   "metadata": {},
   "outputs": [
    {
     "name": "stdout",
     "output_type": "stream",
     "text": [
      "Number of Green Bond Policies based on Cooperation: 15\n",
      "True\n"
     ]
    }
   ],
   "source": [
    "# Tests policies_by_area method\n",
    "selected_area = \"Cooperation\"\n",
    "area_count = 15\n",
    "print(f\"Number of Green Bond Policies based on {selected_area}: {policies_by_area(gb_test, selected_area)}\")\n",
    "if policies_by_area(gb_test, selected_area) == area_count:\n",
    "    print(\"True\")\n",
    "else:\n",
    "    print(\"False\")"
   ]
  },
  {
   "cell_type": "code",
   "execution_count": 22,
   "metadata": {},
   "outputs": [
    {
     "name": "stdout",
     "output_type": "stream",
     "text": [
      "The Country with the Greatest Amount of Green Bond Policies is China with 22 Policies\n",
      "True\n"
     ]
    }
   ],
   "source": [
    "# Tests max_country_policy method\n",
    "max_country = \"China\"\n",
    "max_count = 22\n",
    "test_country, test_count = max_country_policy(gb_test)\n",
    "print(f\"The Country with the Greatest Amount of Green Bond Policies is {test_country} with {test_count} Policies\")\n",
    "if test_country == max_country and max_count == test_count:\n",
    "    print(\"True\")\n",
    "else:\n",
    "    print(\"False\")"
   ]
  },
  {
   "cell_type": "markdown",
   "metadata": {},
   "source": [
    "#### Test Data Visualization"
   ]
  },
  {
   "cell_type": "code",
   "execution_count": 23,
   "metadata": {},
   "outputs": [
    {
     "data": {
      "text/html": [
       "\n",
       "<style>\n",
       "  #altair-viz-21d89628246e43d5b3e46b88affcc3e5.vega-embed {\n",
       "    width: 100%;\n",
       "    display: flex;\n",
       "  }\n",
       "\n",
       "  #altair-viz-21d89628246e43d5b3e46b88affcc3e5.vega-embed details,\n",
       "  #altair-viz-21d89628246e43d5b3e46b88affcc3e5.vega-embed details summary {\n",
       "    position: relative;\n",
       "  }\n",
       "</style>\n",
       "<div id=\"altair-viz-21d89628246e43d5b3e46b88affcc3e5\"></div>\n",
       "<script type=\"text/javascript\">\n",
       "  var VEGA_DEBUG = (typeof VEGA_DEBUG == \"undefined\") ? {} : VEGA_DEBUG;\n",
       "  (function(spec, embedOpt){\n",
       "    let outputDiv = document.currentScript.previousElementSibling;\n",
       "    if (outputDiv.id !== \"altair-viz-21d89628246e43d5b3e46b88affcc3e5\") {\n",
       "      outputDiv = document.getElementById(\"altair-viz-21d89628246e43d5b3e46b88affcc3e5\");\n",
       "    }\n",
       "    const paths = {\n",
       "      \"vega\": \"https://cdn.jsdelivr.net/npm/vega@5?noext\",\n",
       "      \"vega-lib\": \"https://cdn.jsdelivr.net/npm/vega-lib?noext\",\n",
       "      \"vega-lite\": \"https://cdn.jsdelivr.net/npm/vega-lite@5.15.1?noext\",\n",
       "      \"vega-embed\": \"https://cdn.jsdelivr.net/npm/vega-embed@6?noext\",\n",
       "    };\n",
       "\n",
       "    function maybeLoadScript(lib, version) {\n",
       "      var key = `${lib.replace(\"-\", \"\")}_version`;\n",
       "      return (VEGA_DEBUG[key] == version) ?\n",
       "        Promise.resolve(paths[lib]) :\n",
       "        new Promise(function(resolve, reject) {\n",
       "          var s = document.createElement('script');\n",
       "          document.getElementsByTagName(\"head\")[0].appendChild(s);\n",
       "          s.async = true;\n",
       "          s.onload = () => {\n",
       "            VEGA_DEBUG[key] = version;\n",
       "            return resolve(paths[lib]);\n",
       "          };\n",
       "          s.onerror = () => reject(`Error loading script: ${paths[lib]}`);\n",
       "          s.src = paths[lib];\n",
       "        });\n",
       "    }\n",
       "\n",
       "    function showError(err) {\n",
       "      outputDiv.innerHTML = `<div class=\"error\" style=\"color:red;\">${err}</div>`;\n",
       "      throw err;\n",
       "    }\n",
       "\n",
       "    function displayChart(vegaEmbed) {\n",
       "      vegaEmbed(outputDiv, spec, embedOpt)\n",
       "        .catch(err => showError(`Javascript Error: ${err.message}<br>This usually means there's a typo in your chart specification. See the javascript console for the full traceback.`));\n",
       "    }\n",
       "\n",
       "    if(typeof define === \"function\" && define.amd) {\n",
       "      requirejs.config({paths});\n",
       "      require([\"vega-embed\"], displayChart, err => showError(`Error loading script: ${err.message}`));\n",
       "    } else {\n",
       "      maybeLoadScript(\"vega\", \"5\")\n",
       "        .then(() => maybeLoadScript(\"vega-lite\", \"5.15.1\"))\n",
       "        .then(() => maybeLoadScript(\"vega-embed\", \"6\"))\n",
       "        .catch(showError)\n",
       "        .then(() => displayChart(vegaEmbed));\n",
       "    }\n",
       "  })({\"config\": {\"view\": {\"continuousWidth\": 300, \"continuousHeight\": 300}}, \"data\": {\"name\": \"data-b11b41ae7d38038e5fc456d2f32cad41\"}, \"mark\": {\"type\": \"bar\"}, \"encoding\": {\"color\": {\"field\": \"Region\", \"scale\": {\"scheme\": \"dark2\"}, \"type\": \"nominal\"}, \"x\": {\"field\": \"Country\", \"type\": \"nominal\"}, \"y\": {\"field\": \"Policy Count\", \"type\": \"quantitative\"}}, \"params\": [{\"name\": \"param_2\", \"select\": {\"type\": \"point\", \"fields\": [\"Region\"]}, \"bind\": {\"input\": \"select\", \"options\": [\"Global\", \"Asia-Pacific\", \"Africa\", \"Europe\", \"Latin America\", \"North America\"], \"name\": \"Select Region \"}}], \"title\": \"Count of Green Bond Policies vs Country by Region\", \"transform\": [{\"filter\": {\"param\": \"param_2\"}}], \"width\": 700, \"$schema\": \"https://vega.github.io/schema/vega-lite/v5.15.1.json\", \"datasets\": {\"data-b11b41ae7d38038e5fc456d2f32cad41\": [{\"Country\": \"Africa\", \"CBID\": 1, \"Areas\": 1, \"PolicyType\": 1, \"Policy Count\": 1, \"Region\": \"Africa\", \"Actor \": 1, \"ActorType\": 1, \"Date\": 1, \"Description\": 1, \"Links\": 1}, {\"Country\": \"Belgium\", \"CBID\": 1, \"Areas\": 1, \"PolicyType\": 1, \"Policy Count\": 1, \"Region\": \"Europe\", \"Actor \": 1, \"ActorType\": 1, \"Date\": 1, \"Description\": 1, \"Links\": 1}, {\"Country\": \"Brazil\", \"CBID\": 3, \"Areas\": 3, \"PolicyType\": 3, \"Policy Count\": 3, \"Region\": \"Latin America\", \"Actor \": 3, \"ActorType\": 3, \"Date\": 3, \"Description\": 3, \"Links\": 3}, {\"Country\": \"Chile\", \"CBID\": 1, \"Areas\": 1, \"PolicyType\": 1, \"Policy Count\": 1, \"Region\": \"Latin America\", \"Actor \": 1, \"ActorType\": 1, \"Date\": 1, \"Description\": 1, \"Links\": 1}, {\"Country\": \"China\", \"CBID\": 22, \"Areas\": 22, \"PolicyType\": 22, \"Policy Count\": 22, \"Region\": \"Asia-Pacific\", \"Actor \": 22, \"ActorType\": 22, \"Date\": 22, \"Description\": 21, \"Links\": 22}, {\"Country\": \"Europe\", \"CBID\": 7, \"Areas\": 7, \"PolicyType\": 7, \"Policy Count\": 7, \"Region\": \"Europe\", \"Actor \": 7, \"ActorType\": 7, \"Date\": 7, \"Description\": 7, \"Links\": 7}, {\"Country\": \"Fiji\", \"CBID\": 1, \"Areas\": 1, \"PolicyType\": 1, \"Policy Count\": 1, \"Region\": \"Asia-Pacific\", \"Actor \": 1, \"ActorType\": 1, \"Date\": 1, \"Description\": 1, \"Links\": 1}, {\"Country\": \"France\", \"CBID\": 2, \"Areas\": 2, \"PolicyType\": 2, \"Policy Count\": 2, \"Region\": \"Europe\", \"Actor \": 2, \"ActorType\": 2, \"Date\": 2, \"Description\": 2, \"Links\": 2}, {\"Country\": \"Global\", \"CBID\": 10, \"Areas\": 10, \"PolicyType\": 10, \"Policy Count\": 10, \"Region\": \"Global\", \"Actor \": 10, \"ActorType\": 10, \"Date\": 10, \"Description\": 10, \"Links\": 10}, {\"Country\": \"Hong Kong\", \"CBID\": 1, \"Areas\": 1, \"PolicyType\": 1, \"Policy Count\": 1, \"Region\": \"Asia-Pacific\", \"Actor \": 1, \"ActorType\": 1, \"Date\": 1, \"Description\": 1, \"Links\": 1}, {\"Country\": \"India\", \"CBID\": 1, \"Areas\": 1, \"PolicyType\": 1, \"Policy Count\": 1, \"Region\": \"Asia-Pacific\", \"Actor \": 1, \"ActorType\": 1, \"Date\": 1, \"Description\": 1, \"Links\": 1}, {\"Country\": \"Indonesia\", \"CBID\": 3, \"Areas\": 3, \"PolicyType\": 3, \"Policy Count\": 3, \"Region\": \"Asia-Pacific\", \"Actor \": 3, \"ActorType\": 3, \"Date\": 3, \"Description\": 3, \"Links\": 3}, {\"Country\": \"Italy\", \"CBID\": 1, \"Areas\": 1, \"PolicyType\": 1, \"Policy Count\": 1, \"Region\": \"Europe\", \"Actor \": 1, \"ActorType\": 1, \"Date\": 1, \"Description\": 1, \"Links\": 1}, {\"Country\": \"Japan\", \"CBID\": 2, \"Areas\": 2, \"PolicyType\": 2, \"Policy Count\": 2, \"Region\": \"Asia-Pacific\", \"Actor \": 2, \"ActorType\": 2, \"Date\": 2, \"Description\": 2, \"Links\": 2}, {\"Country\": \"Kenya\", \"CBID\": 1, \"Areas\": 1, \"PolicyType\": 1, \"Policy Count\": 1, \"Region\": \"Africa\", \"Actor \": 1, \"ActorType\": 1, \"Date\": 1, \"Description\": 1, \"Links\": 1}, {\"Country\": \"Lithuania\", \"CBID\": 1, \"Areas\": 1, \"PolicyType\": 1, \"Policy Count\": 1, \"Region\": \"Europe\", \"Actor \": 1, \"ActorType\": 1, \"Date\": 1, \"Description\": 1, \"Links\": 1}, {\"Country\": \"Luxembourg\", \"CBID\": 1, \"Areas\": 1, \"PolicyType\": 1, \"Policy Count\": 1, \"Region\": \"Europe\", \"Actor \": 1, \"ActorType\": 1, \"Date\": 1, \"Description\": 1, \"Links\": 1}, {\"Country\": \"Malaysia\", \"CBID\": 2, \"Areas\": 2, \"PolicyType\": 2, \"Policy Count\": 2, \"Region\": \"Asia-Pacific\", \"Actor \": 2, \"ActorType\": 2, \"Date\": 2, \"Description\": 2, \"Links\": 2}, {\"Country\": \"Mexico\", \"CBID\": 3, \"Areas\": 3, \"PolicyType\": 3, \"Policy Count\": 3, \"Region\": \"Latin America\", \"Actor \": 3, \"ActorType\": 3, \"Date\": 3, \"Description\": 3, \"Links\": 3}, {\"Country\": \"Morocco\", \"CBID\": 1, \"Areas\": 1, \"PolicyType\": 1, \"Policy Count\": 1, \"Region\": \"Africa\", \"Actor \": 1, \"ActorType\": 1, \"Date\": 1, \"Description\": 1, \"Links\": 1}, {\"Country\": \"New Zealand\", \"CBID\": 1, \"Areas\": 1, \"PolicyType\": 1, \"Policy Count\": 1, \"Region\": \"Asia-Pacific\", \"Actor \": 1, \"ActorType\": 1, \"Date\": 1, \"Description\": 1, \"Links\": 1}, {\"Country\": \"Nigeria\", \"CBID\": 1, \"Areas\": 1, \"PolicyType\": 1, \"Policy Count\": 1, \"Region\": \"Africa\", \"Actor \": 1, \"ActorType\": 1, \"Date\": 1, \"Description\": 1, \"Links\": 1}, {\"Country\": \"Nordics\", \"CBID\": 1, \"Areas\": 1, \"PolicyType\": 1, \"Policy Count\": 1, \"Region\": \"Europe\", \"Actor \": 1, \"ActorType\": 1, \"Date\": 1, \"Description\": 1, \"Links\": 1}, {\"Country\": \"Peru\", \"CBID\": 1, \"Areas\": 1, \"PolicyType\": 1, \"Policy Count\": 1, \"Region\": \"Latin America\", \"Actor \": 1, \"ActorType\": 1, \"Date\": 1, \"Description\": 1, \"Links\": 1}, {\"Country\": \"Philippines\", \"CBID\": 1, \"Areas\": 1, \"PolicyType\": 1, \"Policy Count\": 1, \"Region\": \"Asia-Pacific\", \"Actor \": 1, \"ActorType\": 1, \"Date\": 1, \"Description\": 1, \"Links\": 1}, {\"Country\": \"Poland\", \"CBID\": 1, \"Areas\": 1, \"PolicyType\": 1, \"Policy Count\": 1, \"Region\": \"Europe\", \"Actor \": 1, \"ActorType\": 1, \"Date\": 1, \"Description\": 1, \"Links\": 1}, {\"Country\": \"Regional\", \"CBID\": 1, \"Areas\": 1, \"PolicyType\": 1, \"Policy Count\": 1, \"Region\": \"Asia-Pacific\", \"Actor \": 1, \"ActorType\": 1, \"Date\": 1, \"Description\": 1, \"Links\": 1}, {\"Country\": \"Singapore\", \"CBID\": 1, \"Areas\": 1, \"PolicyType\": 1, \"Policy Count\": 1, \"Region\": \"Asia-Pacific\", \"Actor \": 1, \"ActorType\": 1, \"Date\": 1, \"Description\": 1, \"Links\": 1}, {\"Country\": \"Sweden\", \"CBID\": 1, \"Areas\": 1, \"PolicyType\": 1, \"Policy Count\": 1, \"Region\": \"Europe\", \"Actor \": 1, \"ActorType\": 1, \"Date\": 1, \"Description\": 1, \"Links\": 1}, {\"Country\": \"UK\", \"CBID\": 2, \"Areas\": 2, \"PolicyType\": 2, \"Policy Count\": 2, \"Region\": \"Europe\", \"Actor \": 2, \"ActorType\": 2, \"Date\": 2, \"Description\": 2, \"Links\": 2}, {\"Country\": \"USA\", \"CBID\": 3, \"Areas\": 3, \"PolicyType\": 3, \"Policy Count\": 3, \"Region\": \"North America\", \"Actor \": 3, \"ActorType\": 3, \"Date\": 3, \"Description\": 3, \"Links\": 3}, {\"Country\": \"Vietnam\", \"CBID\": 1, \"Areas\": 1, \"PolicyType\": 1, \"Policy Count\": 1, \"Region\": \"Asia-Pacific\", \"Actor \": 1, \"ActorType\": 1, \"Date\": 1, \"Description\": 1, \"Links\": 1}]}}, {\"mode\": \"vega-lite\"});\n",
       "</script>"
      ],
      "text/plain": [
       "alt.Chart(...)"
      ]
     },
     "execution_count": 23,
     "metadata": {},
     "output_type": "execute_result"
    }
   ],
   "source": [
    "# Tests policies_vs_country visualization\n",
    "policies_vs_country(gb_test)"
   ]
  },
  {
   "cell_type": "code",
   "execution_count": 24,
   "metadata": {},
   "outputs": [
    {
     "data": {
      "image/png": "[encoded data removed]",
      "text/plain": [
       "<Figure size 640x480 with 1 Axes>"
      ]
     },
     "metadata": {},
     "output_type": "display_data"
    }
   ],
   "source": [
    "# Tests policies_vs_area visualization\n",
    "policies_vs_area(gb_test)"
   ]
  },
  {
   "cell_type": "code",
   "execution_count": 25,
   "metadata": {},
   "outputs": [
    {
     "data": {
      "application/vnd.plotly.v1+json": {
       "config": {
        "plotlyServerURL": "https://plot.ly"
       },
       "data": [
        {
         "hovertemplate": "Year=%{x}<br>Policy Count=%{y}<extra></extra>",
         "legendgroup": "",
         "line": {
          "color": "#636efa",
          "dash": "solid"
         },
         "marker": {
          "symbol": "circle"
         },
         "mode": "lines+markers",
         "name": "",
         "orientation": "v",
         "showlegend": false,
         "type": "scatter",
         "x": [
          "2013",
          "2014",
          "2015",
          "2016",
          "2017",
          "2018"
         ],
         "xaxis": "x",
         "y": [
          1,
          4,
          12,
          20,
          17,
          24
         ],
         "yaxis": "y"
        }
       ],
       "layout": {
        "legend": {
         "tracegroupgap": 0
        },
        "template": {
         "data": {
          "bar": [
           {
            "error_x": {
             "color": "#2a3f5f"
            },
            "error_y": {
             "color": "#2a3f5f"
            },
            "marker": {
             "line": {
              "color": "#E5ECF6",
              "width": 0.5
             },
             "pattern": {
              "fillmode": "overlay",
              "size": 10,
              "solidity": 0.2
             }
            },
            "type": "bar"
           }
          ],
          "barpolar": [
           {
            "marker": {
             "line": {
              "color": "#E5ECF6",
              "width": 0.5
             },
             "pattern": {
              "fillmode": "overlay",
              "size": 10,
              "solidity": 0.2
             }
            },
            "type": "barpolar"
           }
          ],
          "carpet": [
           {
            "aaxis": {
             "endlinecolor": "#2a3f5f",
             "gridcolor": "white",
             "linecolor": "white",
             "minorgridcolor": "white",
             "startlinecolor": "#2a3f5f"
            },
            "baxis": {
             "endlinecolor": "#2a3f5f",
             "gridcolor": "white",
             "linecolor": "white",
             "minorgridcolor": "white",
             "startlinecolor": "#2a3f5f"
            },
            "type": "carpet"
           }
          ],
          "choropleth": [
           {
            "colorbar": {
             "outlinewidth": 0,
             "ticks": ""
            },
            "type": "choropleth"
           }
          ],
          "contour": [
           {
            "colorbar": {
             "outlinewidth": 0,
             "ticks": ""
            },
            "colorscale": [
             [
              0,
              "#0d0887"
             ],
             [
              0.1111111111111111,
              "#46039f"
             ],
             [
              0.2222222222222222,
              "#7201a8"
             ],
             [
              0.3333333333333333,
              "#9c179e"
             ],
             [
              0.4444444444444444,
              "#bd3786"
             ],
             [
              0.5555555555555556,
              "#d8576b"
             ],
             [
              0.6666666666666666,
              "#ed7953"
             ],
             [
              0.7777777777777778,
              "#fb9f3a"
             ],
             [
              0.8888888888888888,
              "#fdca26"
             ],
             [
              1,
              "#f0f921"
             ]
            ],
            "type": "contour"
           }
          ],
          "contourcarpet": [
           {
            "colorbar": {
             "outlinewidth": 0,
             "ticks": ""
            },
            "type": "contourcarpet"
           }
          ],
          "heatmap": [
           {
            "colorbar": {
             "outlinewidth": 0,
             "ticks": ""
            },
            "colorscale": [
             [
              0,
              "#0d0887"
             ],
             [
              0.1111111111111111,
              "#46039f"
             ],
             [
              0.2222222222222222,
              "#7201a8"
             ],
             [
              0.3333333333333333,
              "#9c179e"
             ],
             [
              0.4444444444444444,
              "#bd3786"
             ],
             [
              0.5555555555555556,
              "#d8576b"
             ],
             [
              0.6666666666666666,
              "#ed7953"
             ],
             [
              0.7777777777777778,
              "#fb9f3a"
             ],
             [
              0.8888888888888888,
              "#fdca26"
             ],
             [
              1,
              "#f0f921"
             ]
            ],
            "type": "heatmap"
           }
          ],
          "heatmapgl": [
           {
            "colorbar": {
             "outlinewidth": 0,
             "ticks": ""
            },
            "colorscale": [
             [
              0,
              "#0d0887"
             ],
             [
              0.1111111111111111,
              "#46039f"
             ],
             [
              0.2222222222222222,
              "#7201a8"
             ],
             [
              0.3333333333333333,
              "#9c179e"
             ],
             [
              0.4444444444444444,
              "#bd3786"
             ],
             [
              0.5555555555555556,
              "#d8576b"
             ],
             [
              0.6666666666666666,
              "#ed7953"
             ],
             [
              0.7777777777777778,
              "#fb9f3a"
             ],
             [
              0.8888888888888888,
              "#fdca26"
             ],
             [
              1,
              "#f0f921"
             ]
            ],
            "type": "heatmapgl"
           }
          ],
          "histogram": [
           {
            "marker": {
             "pattern": {
              "fillmode": "overlay",
              "size": 10,
              "solidity": 0.2
             }
            },
            "type": "histogram"
           }
          ],
          "histogram2d": [
           {
            "colorbar": {
             "outlinewidth": 0,
             "ticks": ""
            },
            "colorscale": [
             [
              0,
              "#0d0887"
             ],
             [
              0.1111111111111111,
              "#46039f"
             ],
             [
              0.2222222222222222,
              "#7201a8"
             ],
             [
              0.3333333333333333,
              "#9c179e"
             ],
             [
              0.4444444444444444,
              "#bd3786"
             ],
             [
              0.5555555555555556,
              "#d8576b"
             ],
             [
              0.6666666666666666,
              "#ed7953"
             ],
             [
              0.7777777777777778,
              "#fb9f3a"
             ],
             [
              0.8888888888888888,
              "#fdca26"
             ],
             [
              1,
              "#f0f921"
             ]
            ],
            "type": "histogram2d"
           }
          ],
          "histogram2dcontour": [
           {
            "colorbar": {
             "outlinewidth": 0,
             "ticks": ""
            },
            "colorscale": [
             [
              0,
              "#0d0887"
             ],
             [
              0.1111111111111111,
              "#46039f"
             ],
             [
              0.2222222222222222,
              "#7201a8"
             ],
             [
              0.3333333333333333,
              "#9c179e"
             ],
             [
              0.4444444444444444,
              "#bd3786"
             ],
             [
              0.5555555555555556,
              "#d8576b"
             ],
             [
              0.6666666666666666,
              "#ed7953"
             ],
             [
              0.7777777777777778,
              "#fb9f3a"
             ],
             [
              0.8888888888888888,
              "#fdca26"
             ],
             [
              1,
              "#f0f921"
             ]
            ],
            "type": "histogram2dcontour"
           }
          ],
          "mesh3d": [
           {
            "colorbar": {
             "outlinewidth": 0,
             "ticks": ""
            },
            "type": "mesh3d"
           }
          ],
          "parcoords": [
           {
            "line": {
             "colorbar": {
              "outlinewidth": 0,
              "ticks": ""
             }
            },
            "type": "parcoords"
           }
          ],
          "pie": [
           {
            "automargin": true,
            "type": "pie"
           }
          ],
          "scatter": [
           {
            "fillpattern": {
             "fillmode": "overlay",
             "size": 10,
             "solidity": 0.2
            },
            "type": "scatter"
           }
          ],
          "scatter3d": [
           {
            "line": {
             "colorbar": {
              "outlinewidth": 0,
              "ticks": ""
             }
            },
            "marker": {
             "colorbar": {
              "outlinewidth": 0,
              "ticks": ""
             }
            },
            "type": "scatter3d"
           }
          ],
          "scattercarpet": [
           {
            "marker": {
             "colorbar": {
              "outlinewidth": 0,
              "ticks": ""
             }
            },
            "type": "scattercarpet"
           }
          ],
          "scattergeo": [
           {
            "marker": {
             "colorbar": {
              "outlinewidth": 0,
              "ticks": ""
             }
            },
            "type": "scattergeo"
           }
          ],
          "scattergl": [
           {
            "marker": {
             "colorbar": {
              "outlinewidth": 0,
              "ticks": ""
             }
            },
            "type": "scattergl"
           }
          ],
          "scattermapbox": [
           {
            "marker": {
             "colorbar": {
              "outlinewidth": 0,
              "ticks": ""
             }
            },
            "type": "scattermapbox"
           }
          ],
          "scatterpolar": [
           {
            "marker": {
             "colorbar": {
              "outlinewidth": 0,
              "ticks": ""
             }
            },
            "type": "scatterpolar"
           }
          ],
          "scatterpolargl": [
           {
            "marker": {
             "colorbar": {
              "outlinewidth": 0,
              "ticks": ""
             }
            },
            "type": "scatterpolargl"
           }
          ],
          "scatterternary": [
           {
            "marker": {
             "colorbar": {
              "outlinewidth": 0,
              "ticks": ""
             }
            },
            "type": "scatterternary"
           }
          ],
          "surface": [
           {
            "colorbar": {
             "outlinewidth": 0,
             "ticks": ""
            },
            "colorscale": [
             [
              0,
              "#0d0887"
             ],
             [
              0.1111111111111111,
              "#46039f"
             ],
             [
              0.2222222222222222,
              "#7201a8"
             ],
             [
              0.3333333333333333,
              "#9c179e"
             ],
             [
              0.4444444444444444,
              "#bd3786"
             ],
             [
              0.5555555555555556,
              "#d8576b"
             ],
             [
              0.6666666666666666,
              "#ed7953"
             ],
             [
              0.7777777777777778,
              "#fb9f3a"
             ],
             [
              0.8888888888888888,
              "#fdca26"
             ],
             [
              1,
              "#f0f921"
             ]
            ],
            "type": "surface"
           }
          ],
          "table": [
           {
            "cells": {
             "fill": {
              "color": "#EBF0F8"
             },
             "line": {
              "color": "white"
             }
            },
            "header": {
             "fill": {
              "color": "#C8D4E3"
             },
             "line": {
              "color": "white"
             }
            },
            "type": "table"
           }
          ]
         },
         "layout": {
          "annotationdefaults": {
           "arrowcolor": "#2a3f5f",
           "arrowhead": 0,
           "arrowwidth": 1
          },
          "autotypenumbers": "strict",
          "coloraxis": {
           "colorbar": {
            "outlinewidth": 0,
            "ticks": ""
           }
          },
          "colorscale": {
           "diverging": [
            [
             0,
             "#8e0152"
            ],
            [
             0.1,
             "#c51b7d"
            ],
            [
             0.2,
             "#de77ae"
            ],
            [
             0.3,
             "#f1b6da"
            ],
            [
             0.4,
             "#fde0ef"
            ],
            [
             0.5,
             "#f7f7f7"
            ],
            [
             0.6,
             "#e6f5d0"
            ],
            [
             0.7,
             "#b8e186"
            ],
            [
             0.8,
             "#7fbc41"
            ],
            [
             0.9,
             "#4d9221"
            ],
            [
             1,
             "#276419"
            ]
           ],
           "sequential": [
            [
             0,
             "#0d0887"
            ],
            [
             0.1111111111111111,
             "#46039f"
            ],
            [
             0.2222222222222222,
             "#7201a8"
            ],
            [
             0.3333333333333333,
             "#9c179e"
            ],
            [
             0.4444444444444444,
             "#bd3786"
            ],
            [
             0.5555555555555556,
             "#d8576b"
            ],
            [
             0.6666666666666666,
             "#ed7953"
            ],
            [
             0.7777777777777778,
             "#fb9f3a"
            ],
            [
             0.8888888888888888,
             "#fdca26"
            ],
            [
             1,
             "#f0f921"
            ]
           ],
           "sequentialminus": [
            [
             0,
             "#0d0887"
            ],
            [
             0.1111111111111111,
             "#46039f"
            ],
            [
             0.2222222222222222,
             "#7201a8"
            ],
            [
             0.3333333333333333,
             "#9c179e"
            ],
            [
             0.4444444444444444,
             "#bd3786"
            ],
            [
             0.5555555555555556,
             "#d8576b"
            ],
            [
             0.6666666666666666,
             "#ed7953"
            ],
            [
             0.7777777777777778,
             "#fb9f3a"
            ],
            [
             0.8888888888888888,
             "#fdca26"
            ],
            [
             1,
             "#f0f921"
            ]
           ]
          },
          "colorway": [
           "#636efa",
           "#EF553B",
           "#00cc96",
           "#ab63fa",
           "#FFA15A",
           "#19d3f3",
           "#FF6692",
           "#B6E880",
           "#FF97FF",
           "#FECB52"
          ],
          "font": {
           "color": "#2a3f5f"
          },
          "geo": {
           "bgcolor": "white",
           "lakecolor": "white",
           "landcolor": "#E5ECF6",
           "showlakes": true,
           "showland": true,
           "subunitcolor": "white"
          },
          "hoverlabel": {
           "align": "left"
          },
          "hovermode": "closest",
          "mapbox": {
           "style": "light"
          },
          "paper_bgcolor": "white",
          "plot_bgcolor": "#E5ECF6",
          "polar": {
           "angularaxis": {
            "gridcolor": "white",
            "linecolor": "white",
            "ticks": ""
           },
           "bgcolor": "#E5ECF6",
           "radialaxis": {
            "gridcolor": "white",
            "linecolor": "white",
            "ticks": ""
           }
          },
          "scene": {
           "xaxis": {
            "backgroundcolor": "#E5ECF6",
            "gridcolor": "white",
            "gridwidth": 2,
            "linecolor": "white",
            "showbackground": true,
            "ticks": "",
            "zerolinecolor": "white"
           },
           "yaxis": {
            "backgroundcolor": "#E5ECF6",
            "gridcolor": "white",
            "gridwidth": 2,
            "linecolor": "white",
            "showbackground": true,
            "ticks": "",
            "zerolinecolor": "white"
           },
           "zaxis": {
            "backgroundcolor": "#E5ECF6",
            "gridcolor": "white",
            "gridwidth": 2,
            "linecolor": "white",
            "showbackground": true,
            "ticks": "",
            "zerolinecolor": "white"
           }
          },
          "shapedefaults": {
           "line": {
            "color": "#2a3f5f"
           }
          },
          "ternary": {
           "aaxis": {
            "gridcolor": "white",
            "linecolor": "white",
            "ticks": ""
           },
           "baxis": {
            "gridcolor": "white",
            "linecolor": "white",
            "ticks": ""
           },
           "bgcolor": "#E5ECF6",
           "caxis": {
            "gridcolor": "white",
            "linecolor": "white",
            "ticks": ""
           }
          },
          "title": {
           "x": 0.05
          },
          "xaxis": {
           "automargin": true,
           "gridcolor": "white",
           "linecolor": "white",
           "ticks": "",
           "title": {
            "standoff": 15
           },
           "zerolinecolor": "white",
           "zerolinewidth": 2
          },
          "yaxis": {
           "automargin": true,
           "gridcolor": "white",
           "linecolor": "white",
           "ticks": "",
           "title": {
            "standoff": 15
           },
           "zerolinecolor": "white",
           "zerolinewidth": 2
          }
         }
        },
        "title": {
         "text": "Growth in Green Bond Policies"
        },
        "xaxis": {
         "anchor": "y",
         "domain": [
          0,
          1
         ],
         "title": {
          "text": "Year"
         }
        },
        "yaxis": {
         "anchor": "x",
         "domain": [
          0,
          1
         ],
         "title": {
          "text": "Policy Count"
         }
        }
       }
      }
     },
     "metadata": {},
     "output_type": "display_data"
    }
   ],
   "source": [
    "# Tests policies_by_date visualization\n",
    "policies_by_date(gb_test)"
   ]
  },
  {
   "cell_type": "markdown",
   "metadata": {},
   "source": [
    "## __Fannie Mae Multi-Family Green Mortgage-Backed Securities__"
   ]
  },
  {
   "cell_type": "markdown",
   "metadata": {},
   "source": [
    "### Original Dataframe Before Cleaning"
   ]
  },
  {
   "cell_type": "code",
   "execution_count": 26,
   "metadata": {},
   "outputs": [
    {
     "data": {
      "text/html": [
       "<div>\n",
       "<style scoped>\n",
       "    .dataframe tbody tr th:only-of-type {\n",
       "        vertical-align: middle;\n",
       "    }\n",
       "\n",
       "    .dataframe tbody tr th {\n",
       "        vertical-align: top;\n",
       "    }\n",
       "\n",
       "    .dataframe thead th {\n",
       "        text-align: right;\n",
       "    }\n",
       "</style>\n",
       "<table border=\"1\" class=\"dataframe\">\n",
       "  <thead>\n",
       "    <tr style=\"text-align: right;\">\n",
       "      <th></th>\n",
       "      <th>Fannie Mae Projected Environmental Impact At Issuance Per CUSIP: Multifamily Green MBS(1)(2)</th>\n",
       "      <th>Unnamed: 1</th>\n",
       "      <th>Unnamed: 2</th>\n",
       "      <th>Unnamed: 3</th>\n",
       "      <th>Unnamed: 4</th>\n",
       "      <th>Unnamed: 5</th>\n",
       "      <th>Unnamed: 6</th>\n",
       "      <th>Unnamed: 7</th>\n",
       "      <th>Unnamed: 8</th>\n",
       "      <th>Unnamed: 9</th>\n",
       "    </tr>\n",
       "  </thead>\n",
       "  <tbody>\n",
       "    <tr>\n",
       "      <th>0</th>\n",
       "      <td>2012-2022</td>\n",
       "      <td>NaN</td>\n",
       "      <td>NaN</td>\n",
       "      <td>NaN</td>\n",
       "      <td>NaN</td>\n",
       "      <td>NaN</td>\n",
       "      <td>NaN</td>\n",
       "      <td>NaN</td>\n",
       "      <td>NaN</td>\n",
       "      <td>NaN</td>\n",
       "    </tr>\n",
       "    <tr>\n",
       "      <th>1</th>\n",
       "      <td>© 2023 Fannie Mae</td>\n",
       "      <td>NaN</td>\n",
       "      <td>NaN</td>\n",
       "      <td>NaN</td>\n",
       "      <td>NaN</td>\n",
       "      <td>NaN</td>\n",
       "      <td>NaN</td>\n",
       "      <td>NaN</td>\n",
       "      <td>NaN</td>\n",
       "      <td>NaN</td>\n",
       "    </tr>\n",
       "    <tr>\n",
       "      <th>2</th>\n",
       "      <td>NaN</td>\n",
       "      <td>NaN</td>\n",
       "      <td>NaN</td>\n",
       "      <td>NaN</td>\n",
       "      <td>NaN</td>\n",
       "      <td>NaN</td>\n",
       "      <td>NaN</td>\n",
       "      <td>NaN</td>\n",
       "      <td>NaN</td>\n",
       "      <td>NaN</td>\n",
       "    </tr>\n",
       "    <tr>\n",
       "      <th>3</th>\n",
       "      <td>Security CUSIP</td>\n",
       "      <td>(notes)</td>\n",
       "      <td>Green Financing Type</td>\n",
       "      <td>Issue Date</td>\n",
       "      <td>Issuance UPB\\n($USD)</td>\n",
       "      <td>Estimated Annual \\nEnergy Savings (3)(4)\\n(kBTU)</td>\n",
       "      <td>Estimated Annual \\nEmissions Savings (3)\\n(MTC...</td>\n",
       "      <td>Estimated Annual \\nWater Savings (3)\\n(gallons)</td>\n",
       "      <td>NaN</td>\n",
       "      <td>NaN</td>\n",
       "    </tr>\n",
       "    <tr>\n",
       "      <th>4</th>\n",
       "      <td>3140LH2R0</td>\n",
       "      <td>NaN</td>\n",
       "      <td>Green Building Certification</td>\n",
       "      <td>1 Dec 2022</td>\n",
       "      <td>34,142,000</td>\n",
       "      <td>1,240,031</td>\n",
       "      <td>58</td>\n",
       "      <td>-</td>\n",
       "      <td>NaN</td>\n",
       "      <td>NaN</td>\n",
       "    </tr>\n",
       "    <tr>\n",
       "      <th>...</th>\n",
       "      <td>...</td>\n",
       "      <td>...</td>\n",
       "      <td>...</td>\n",
       "      <td>...</td>\n",
       "      <td>...</td>\n",
       "      <td>...</td>\n",
       "      <td>...</td>\n",
       "      <td>...</td>\n",
       "      <td>...</td>\n",
       "      <td>...</td>\n",
       "    </tr>\n",
       "    <tr>\n",
       "      <th>4657</th>\n",
       "      <td>3138L1LY3</td>\n",
       "      <td>NaN</td>\n",
       "      <td>Green Building Certification</td>\n",
       "      <td>1 Nov 2012</td>\n",
       "      <td>6,225,000</td>\n",
       "      <td>736,704</td>\n",
       "      <td>83</td>\n",
       "      <td>-</td>\n",
       "      <td>NaN</td>\n",
       "      <td>NaN</td>\n",
       "    </tr>\n",
       "    <tr>\n",
       "      <th>4658</th>\n",
       "      <td>3138L1TW9</td>\n",
       "      <td>NaN</td>\n",
       "      <td>Green Building Certification</td>\n",
       "      <td>1 Nov 2012</td>\n",
       "      <td>26,400,000</td>\n",
       "      <td>3,639,279</td>\n",
       "      <td>410</td>\n",
       "      <td>-</td>\n",
       "      <td>NaN</td>\n",
       "      <td>NaN</td>\n",
       "    </tr>\n",
       "    <tr>\n",
       "      <th>4659</th>\n",
       "      <td>NaN</td>\n",
       "      <td>NaN</td>\n",
       "      <td>NaN</td>\n",
       "      <td>NaN</td>\n",
       "      <td>NaN</td>\n",
       "      <td>NaN</td>\n",
       "      <td>NaN</td>\n",
       "      <td>NaN</td>\n",
       "      <td>NaN</td>\n",
       "      <td>NaN</td>\n",
       "    </tr>\n",
       "    <tr>\n",
       "      <th>4660</th>\n",
       "      <td>NaN</td>\n",
       "      <td>NaN</td>\n",
       "      <td>NaN</td>\n",
       "      <td>NaN</td>\n",
       "      <td>NaN</td>\n",
       "      <td>NaN</td>\n",
       "      <td>NaN</td>\n",
       "      <td>NaN</td>\n",
       "      <td>NaN</td>\n",
       "      <td>NaN</td>\n",
       "    </tr>\n",
       "    <tr>\n",
       "      <th>4661</th>\n",
       "      <td>NaN</td>\n",
       "      <td>NaN</td>\n",
       "      <td>NaN</td>\n",
       "      <td>NaN</td>\n",
       "      <td>NaN</td>\n",
       "      <td>NaN</td>\n",
       "      <td>NaN</td>\n",
       "      <td>NaN</td>\n",
       "      <td>NaN</td>\n",
       "      <td>NaN</td>\n",
       "    </tr>\n",
       "  </tbody>\n",
       "</table>\n",
       "<p>4662 rows × 10 columns</p>\n",
       "</div>"
      ],
      "text/plain": [
       "     Fannie Mae Projected Environmental Impact At Issuance Per CUSIP: Multifamily Green MBS(1)(2)  \\\n",
       "0                                             2012-2022                                             \n",
       "1                                     © 2023 Fannie Mae                                             \n",
       "2                                                   NaN                                             \n",
       "3                                        Security CUSIP                                             \n",
       "4                                             3140LH2R0                                             \n",
       "...                                                 ...                                             \n",
       "4657                                          3138L1LY3                                             \n",
       "4658                                          3138L1TW9                                             \n",
       "4659                                                NaN                                             \n",
       "4660                                                NaN                                             \n",
       "4661                                                NaN                                             \n",
       "\n",
       "     Unnamed: 1                    Unnamed: 2  Unnamed: 3  \\\n",
       "0           NaN                           NaN         NaN   \n",
       "1           NaN                           NaN         NaN   \n",
       "2           NaN                           NaN         NaN   \n",
       "3       (notes)          Green Financing Type  Issue Date   \n",
       "4           NaN  Green Building Certification  1 Dec 2022   \n",
       "...         ...                           ...         ...   \n",
       "4657        NaN  Green Building Certification  1 Nov 2012   \n",
       "4658        NaN  Green Building Certification  1 Nov 2012   \n",
       "4659        NaN                           NaN         NaN   \n",
       "4660        NaN                           NaN         NaN   \n",
       "4661        NaN                           NaN         NaN   \n",
       "\n",
       "                Unnamed: 4                                         Unnamed: 5  \\\n",
       "0                      NaN                                                NaN   \n",
       "1                      NaN                                                NaN   \n",
       "2                      NaN                                                NaN   \n",
       "3     Issuance UPB\\n($USD)  Estimated Annual \\nEnergy Savings (3)(4)\\n(kBTU)    \n",
       "4              34,142,000                                          1,240,031    \n",
       "...                    ...                                                ...   \n",
       "4657            6,225,000                                            736,704    \n",
       "4658           26,400,000                                          3,639,279    \n",
       "4659                   NaN                                                NaN   \n",
       "4660                   NaN                                                NaN   \n",
       "4661                   NaN                                                NaN   \n",
       "\n",
       "                                             Unnamed: 6  \\\n",
       "0                                                   NaN   \n",
       "1                                                   NaN   \n",
       "2                                                   NaN   \n",
       "3     Estimated Annual \\nEmissions Savings (3)\\n(MTC...   \n",
       "4                                                   58    \n",
       "...                                                 ...   \n",
       "4657                                                83    \n",
       "4658                                               410    \n",
       "4659                                                NaN   \n",
       "4660                                                NaN   \n",
       "4661                                                NaN   \n",
       "\n",
       "                                            Unnamed: 7  Unnamed: 8  Unnamed: 9  \n",
       "0                                                  NaN         NaN         NaN  \n",
       "1                                                  NaN         NaN         NaN  \n",
       "2                                                  NaN         NaN         NaN  \n",
       "3     Estimated Annual \\nWater Savings (3)\\n(gallons)          NaN         NaN  \n",
       "4                                                 -            NaN         NaN  \n",
       "...                                                ...         ...         ...  \n",
       "4657                                              -            NaN         NaN  \n",
       "4658                                              -            NaN         NaN  \n",
       "4659                                               NaN         NaN         NaN  \n",
       "4660                                               NaN         NaN         NaN  \n",
       "4661                                               NaN         NaN         NaN  \n",
       "\n",
       "[4662 rows x 10 columns]"
      ]
     },
     "metadata": {},
     "output_type": "display_data"
    }
   ],
   "source": [
    "original_df = pd.read_csv('MF-green-MBS.csv')\n",
    "\n",
    "display(original_df)"
   ]
  },
  {
   "cell_type": "markdown",
   "metadata": {},
   "source": [
    "### Dataset File I/O and Cleaning"
   ]
  },
  {
   "cell_type": "code",
   "execution_count": 27,
   "metadata": {},
   "outputs": [
    {
     "data": {
      "text/html": [
       "<div>\n",
       "<style scoped>\n",
       "    .dataframe tbody tr th:only-of-type {\n",
       "        vertical-align: middle;\n",
       "    }\n",
       "\n",
       "    .dataframe tbody tr th {\n",
       "        vertical-align: top;\n",
       "    }\n",
       "\n",
       "    .dataframe thead th {\n",
       "        text-align: right;\n",
       "    }\n",
       "</style>\n",
       "<table border=\"1\" class=\"dataframe\">\n",
       "  <thead>\n",
       "    <tr style=\"text-align: right;\">\n",
       "      <th></th>\n",
       "      <th>CUSIP</th>\n",
       "      <th>Financing Type</th>\n",
       "      <th>Issue Date</th>\n",
       "      <th>Principal $</th>\n",
       "      <th>Energy Savings kBTU</th>\n",
       "      <th>Emissions Savings MTCO2e</th>\n",
       "      <th>Water Savings Gallons</th>\n",
       "    </tr>\n",
       "  </thead>\n",
       "  <tbody>\n",
       "    <tr>\n",
       "      <th>4</th>\n",
       "      <td>3140LH2R0</td>\n",
       "      <td>Green Building Certification</td>\n",
       "      <td>1 Dec 2022</td>\n",
       "      <td>34142000</td>\n",
       "      <td>1240031</td>\n",
       "      <td>58</td>\n",
       "      <td>0</td>\n",
       "    </tr>\n",
       "    <tr>\n",
       "      <th>5</th>\n",
       "      <td>3140LH5K2</td>\n",
       "      <td>Green Building Certification</td>\n",
       "      <td>1 Dec 2022</td>\n",
       "      <td>82180000</td>\n",
       "      <td>7543701</td>\n",
       "      <td>292</td>\n",
       "      <td>0</td>\n",
       "    </tr>\n",
       "    <tr>\n",
       "      <th>6</th>\n",
       "      <td>3140LHUA6</td>\n",
       "      <td>Green Building Certification</td>\n",
       "      <td>1 Dec 2022</td>\n",
       "      <td>34146000</td>\n",
       "      <td>5626484</td>\n",
       "      <td>283</td>\n",
       "      <td>0</td>\n",
       "    </tr>\n",
       "    <tr>\n",
       "      <th>7</th>\n",
       "      <td>3140LJCX2</td>\n",
       "      <td>Green Building Certification</td>\n",
       "      <td>1 Dec 2022</td>\n",
       "      <td>44845000</td>\n",
       "      <td>4361035</td>\n",
       "      <td>197</td>\n",
       "      <td>0</td>\n",
       "    </tr>\n",
       "    <tr>\n",
       "      <th>8</th>\n",
       "      <td>3140LJKT2</td>\n",
       "      <td>Green Building Certification</td>\n",
       "      <td>1 Dec 2022</td>\n",
       "      <td>34405000</td>\n",
       "      <td>1488646</td>\n",
       "      <td>63</td>\n",
       "      <td>0</td>\n",
       "    </tr>\n",
       "    <tr>\n",
       "      <th>...</th>\n",
       "      <td>...</td>\n",
       "      <td>...</td>\n",
       "      <td>...</td>\n",
       "      <td>...</td>\n",
       "      <td>...</td>\n",
       "      <td>...</td>\n",
       "      <td>...</td>\n",
       "    </tr>\n",
       "    <tr>\n",
       "      <th>4657</th>\n",
       "      <td>3138L1LY3</td>\n",
       "      <td>Green Building Certification</td>\n",
       "      <td>1 Nov 2012</td>\n",
       "      <td>6225000</td>\n",
       "      <td>736704</td>\n",
       "      <td>83</td>\n",
       "      <td>0</td>\n",
       "    </tr>\n",
       "    <tr>\n",
       "      <th>4658</th>\n",
       "      <td>3138L1TW9</td>\n",
       "      <td>Green Building Certification</td>\n",
       "      <td>1 Nov 2012</td>\n",
       "      <td>26400000</td>\n",
       "      <td>3639279</td>\n",
       "      <td>410</td>\n",
       "      <td>0</td>\n",
       "    </tr>\n",
       "    <tr>\n",
       "      <th>4659</th>\n",
       "      <td>0</td>\n",
       "      <td>0</td>\n",
       "      <td>0</td>\n",
       "      <td>0</td>\n",
       "      <td>0</td>\n",
       "      <td>0</td>\n",
       "      <td>0</td>\n",
       "    </tr>\n",
       "    <tr>\n",
       "      <th>4660</th>\n",
       "      <td>0</td>\n",
       "      <td>0</td>\n",
       "      <td>0</td>\n",
       "      <td>0</td>\n",
       "      <td>0</td>\n",
       "      <td>0</td>\n",
       "      <td>0</td>\n",
       "    </tr>\n",
       "    <tr>\n",
       "      <th>4661</th>\n",
       "      <td>0</td>\n",
       "      <td>0</td>\n",
       "      <td>0</td>\n",
       "      <td>0</td>\n",
       "      <td>0</td>\n",
       "      <td>0</td>\n",
       "      <td>0</td>\n",
       "    </tr>\n",
       "  </tbody>\n",
       "</table>\n",
       "<p>4658 rows × 7 columns</p>\n",
       "</div>"
      ],
      "text/plain": [
       "          CUSIP                Financing Type  Issue Date  Principal $  \\\n",
       "4     3140LH2R0  Green Building Certification  1 Dec 2022     34142000   \n",
       "5     3140LH5K2  Green Building Certification  1 Dec 2022     82180000   \n",
       "6     3140LHUA6  Green Building Certification  1 Dec 2022     34146000   \n",
       "7     3140LJCX2  Green Building Certification  1 Dec 2022     44845000   \n",
       "8     3140LJKT2  Green Building Certification  1 Dec 2022     34405000   \n",
       "...         ...                           ...         ...          ...   \n",
       "4657  3138L1LY3  Green Building Certification  1 Nov 2012      6225000   \n",
       "4658  3138L1TW9  Green Building Certification  1 Nov 2012     26400000   \n",
       "4659          0                             0           0            0   \n",
       "4660          0                             0           0            0   \n",
       "4661          0                             0           0            0   \n",
       "\n",
       "      Energy Savings kBTU  Emissions Savings MTCO2e  Water Savings Gallons  \n",
       "4                 1240031                        58                      0  \n",
       "5                 7543701                       292                      0  \n",
       "6                 5626484                       283                      0  \n",
       "7                 4361035                       197                      0  \n",
       "8                 1488646                        63                      0  \n",
       "...                   ...                       ...                    ...  \n",
       "4657               736704                        83                      0  \n",
       "4658              3639279                       410                      0  \n",
       "4659                    0                         0                      0  \n",
       "4660                    0                         0                      0  \n",
       "4661                    0                         0                      0  \n",
       "\n",
       "[4658 rows x 7 columns]"
      ]
     },
     "execution_count": 27,
     "metadata": {},
     "output_type": "execute_result"
    }
   ],
   "source": [
    "def new_dataframe(filename):\n",
    "    \"\"\"\n",
    "    This function will read-in and clean the .csv file to create\n",
    "    a new, clean dataframe object on which to perform functions on.\n",
    "    \"\"\"\n",
    "\n",
    "    # Read-in the .csv file\n",
    "    df = pd.read_csv(filename)\n",
    "\n",
    "    df.drop([0, 1, 2], inplace= True) # Drop irrelevant rows\n",
    "\n",
    "    # Make the first row the new column labels\n",
    "    new_header = df.iloc[0]\n",
    "    df.columns = new_header\n",
    "\n",
    "    # Clean up the columns\n",
    "    df.drop(['(notes)'], axis = 1, inplace = True)\n",
    "    df.drop(df.columns[[7, 8]], axis = 1, inplace = True)\n",
    "    # Drop first row (duped labels)\n",
    "    df.drop([3], inplace = True) \n",
    "\n",
    "    # Fill NaN values with 0\n",
    "    df.fillna(0, inplace = True) \n",
    "\n",
    "    # Rename the columns\n",
    "    df.columns = ['CUSIP','Financing Type','Issue Date','Principal $',\n",
    "                'Energy Savings kBTU',    'Emissions Savings MTCO2e',\n",
    "                'Water Savings Gallons']\n",
    "    \n",
    "    # Remove thousands separators\n",
    "    df.replace(',','', regex = True, inplace = True)\n",
    "\n",
    "    # Adjust for null values\n",
    "    df.replace(' -   ', 0 , regex = True, inplace = True)\n",
    "\n",
    "    # Convert numerical strings to integer type\n",
    "    df['Principal $'] = df['Principal $'].astype(int)\n",
    "    df['Energy Savings kBTU'] = df['Energy Savings kBTU'].astype(int)\n",
    "    df['Emissions Savings MTCO2e'] = df['Emissions Savings MTCO2e'].astype(int)\n",
    "    df['Water Savings Gallons'] = df['Water Savings Gallons'].astype(int)\n",
    "\n",
    "    return df\n",
    "\n",
    "new_dataframe('MF-Green-MBS.csv')"
   ]
  },
  {
   "cell_type": "markdown",
   "metadata": {},
   "source": [
    "### Heap Class Helper - Cited in References Section"
   ]
  },
  {
   "cell_type": "code",
   "execution_count": 28,
   "metadata": {},
   "outputs": [],
   "source": [
    "class Max_heap:\n",
    "    '''\n",
    "    Max Heap Implementation in Python: Credit to Kia Teymourian\n",
    "    '''\n",
    "    def __init__(self):\n",
    "        '''\n",
    "        On this implementation the heap list is initialized with a value\n",
    "        '''\n",
    "        # We do not use the index 0 \n",
    "        # Index zero is always a very large number as placeholder. \n",
    "        self.heap_list = [sys.maxsize]\n",
    "\n",
    "    @property\n",
    "    def size(self):\n",
    "        '''Returns the size of this heap'''\n",
    "        return len(self.heap_list) - 1 \n",
    " \n",
    "\n",
    "    def parent(self, index):\n",
    "        ''' Return the parent of a node at index'''\n",
    "        return index // 2\n",
    "\n",
    "\n",
    "    def l_child(self, index):\n",
    "        '''Return the position of the left child node of a given index'''\n",
    "        return 2 * index\n",
    "\n",
    "    def r_child(self, index):\n",
    "        '''Return the position of the right child node of a given index'''\n",
    "        return (2 * index) + 1\n",
    "\n",
    "    def is_leaf(self, index):\n",
    "        ''' Returns true if the given index is a leaf node'''\n",
    "        return index * 2 > self.size \n",
    "\n",
    "\n",
    "    def swap(self, from_pos, to_pos):\n",
    "        '''A helper function to swap two nodes of the heap'''\n",
    "        self.heap_list[from_pos], self.heap_list[to_pos] = self.heap_list[to_pos], self.heap_list[from_pos]\n",
    "        \n",
    "\n",
    "    def insert(self, element):\n",
    "        '''\n",
    "        It inserts an element to the heap structure and maintain the heap property. \n",
    "        '''\n",
    "        self.heap_list.append(element)\n",
    "\n",
    "        current = self.size\n",
    "\n",
    "        while (self.heap_list[current] > self.heap_list[self.parent(current)]):\n",
    "            self.swap(current, self.parent(current))\n",
    "            current = self.parent(current)\n",
    "\n",
    "\n",
    "    def __str__(self):\n",
    "        '''A simple str function to print the contents of the heap'''\n",
    "        return str(self.heap_list)\n",
    "\n",
    "\n",
    "    def max_heapify(self, i):\n",
    "        '''\n",
    "        # Function to heapify the node at index\n",
    "        '''\n",
    "        l = self.l_child(i)\n",
    "        r = self.r_child(i)\n",
    "\n",
    "        if l <= self.size and self.heap_list[l] > self.heap_list[i]:\n",
    "            largest = l\n",
    "        else:\n",
    "            largest = i\n",
    "\n",
    "        if r <= self.size and self.heap_list[r] > self.heap_list[largest]:\n",
    "            largest = r \n",
    "\n",
    "        if largest != i :\n",
    "            self.swap(i, largest)\n",
    "            self.max_heapify(largest)\n",
    "\n",
    "\n",
    "    def build_max_heap(self, unsorted_list):\n",
    "\n",
    "        # Set the max possible number to the begining of the list \n",
    "        unsorted_list.insert(0, sys.maxsize)\n",
    "\n",
    "        self.heap_list = unsorted_list\n",
    "\n",
    "        for i in range(len(unsorted_list) // 2 , 1, -1):\n",
    "            self.max_heapify(i)\n",
    "\n",
    "\n",
    "    def extract_max(self):\n",
    "        '''Extracts the max of this heap'''\n",
    "\n",
    "        # 1. pop the root of the tree which is on the index 1 of the list \n",
    "        popped = self.heap_list.pop(1)\n",
    "        \n",
    "        # 2. Insert the last element of the heap list which is a leaf node and insert it to the root\n",
    "        if(self.size > 1):\n",
    "            self.insert(self.heap_list.pop())\n",
    "        # 3. Call heapify() on the root to fix the error it may have caused. \n",
    "            self.max_heapify(1)\n",
    "    \n",
    "        return popped"
   ]
  },
  {
   "cell_type": "markdown",
   "metadata": {},
   "source": [
    "### Dataframe Functions Organized in a Class: Heap-Sort & Max-Heap Implementation Used"
   ]
  },
  {
   "cell_type": "code",
   "execution_count": 29,
   "metadata": {},
   "outputs": [],
   "source": [
    "class DataFunctions:\n",
    "\n",
    "    \"\"\"\n",
    "    This class contains the various functions the user may\n",
    "    use on their dataframe call.\n",
    "    \n",
    "    Functions are in a class for organization. \n",
    "    \"\"\"\n",
    "\n",
    "    def __init__(self, df_obj):\n",
    "        self.df = df_obj\n",
    "\n",
    "    def __str__(self):\n",
    "        return self.df.info\n",
    "\n",
    "    def print_x_head(self, size):\n",
    "        \"Print the given head size.\"\n",
    "\n",
    "        print(f'Here are the top {size} rows in the dataframe.')\n",
    "        print()\n",
    "        print(self.df.head(size))\n",
    "\n",
    "    def print_row_count(self):\n",
    "        \"Print the number of rows.\"\n",
    "\n",
    "        print(f'There are {len(self.df)} total rows in the dataframe.')\n",
    "\n",
    "    def print_largest_bond(self):\n",
    "        \"Prints the largest bond principal in terms of $ Dollars using MAX-HEAP using the column values.\"\n",
    "\n",
    "        max_bond_heap = Max_heap()\n",
    "        for amount in self.df['Principal $']:\n",
    "            max_bond_heap.insert(amount)\n",
    "        max_principal = max_bond_heap.extract_max()\n",
    "        print(f'The highest principal issuance amount is ${max_principal:,.2f}')\n",
    "\n",
    "    def print_top_x_principal_issuances(self, num_rows):\n",
    "        \"Prints the given number of rows sorted by the top principal issuance amounts using HEAP-SORT.\"\n",
    "\n",
    "        principals_heap = Max_heap()\n",
    "        for amount in self.df['Principal $']:\n",
    "            principals_heap.insert(amount)\n",
    "        principals_heap.build_max_heap(principals_heap.heap_list)\n",
    "        sorted = []\n",
    "\n",
    "        n = len(principals_heap.heap_list)\n",
    "        \n",
    "        # One by one extract elements\n",
    "        for i in range(n - 1, 0, -1):\n",
    "            principals_heap.heap_list[i], principals_heap.heap_list[0] = principals_heap.heap_list[0], principals_heap.heap_list[i]  # swap\n",
    "            sorted.append(principals_heap.extract_max())\n",
    "\n",
    "        number = 0\n",
    "        sorted = sorted[1:]\n",
    "\n",
    "        for row in range(num_rows):\n",
    "            number += 1\n",
    "            print(f'{number}: ${sorted[row]:,.2f}')"
   ]
  },
  {
   "cell_type": "markdown",
   "metadata": {},
   "source": [
    "### Perform Functions"
   ]
  },
  {
   "cell_type": "code",
   "execution_count": 30,
   "metadata": {},
   "outputs": [
    {
     "name": "stdout",
     "output_type": "stream",
     "text": [
      "There are 4658 total rows in the dataframe.\n",
      "\n",
      "Here are the top 12 rows in the dataframe.\n",
      "\n",
      "        CUSIP                Financing Type  Issue Date  Principal $  \\\n",
      "4   3140LH2R0  Green Building Certification  1 Dec 2022     34142000   \n",
      "5   3140LH5K2  Green Building Certification  1 Dec 2022     82180000   \n",
      "6   3140LHUA6  Green Building Certification  1 Dec 2022     34146000   \n",
      "7   3140LJCX2  Green Building Certification  1 Dec 2022     44845000   \n",
      "8   3140LJKT2  Green Building Certification  1 Dec 2022     34405000   \n",
      "9   3140LJKY1  Green Building Certification  1 Dec 2022     13010000   \n",
      "10  3140LH3X6                 Green Rewards  1 Dec 2022     22554000   \n",
      "11  3140LJCV6                 Green Rewards  1 Dec 2022      9000000   \n",
      "12  3140LH3C2  Green Building Certification  1 Nov 2022     55170000   \n",
      "13  3140LH4A5  Green Building Certification  1 Nov 2022     20210000   \n",
      "14  3140LH5F3  Green Building Certification  1 Nov 2022     39958000   \n",
      "15  3140LHJR2  Green Building Certification  1 Nov 2022     16467000   \n",
      "\n",
      "    Energy Savings kBTU  Emissions Savings MTCO2e  Water Savings Gallons  \n",
      "4               1240031                        58                      0  \n",
      "5               7543701                       292                      0  \n",
      "6               5626484                       283                      0  \n",
      "7               4361035                       197                      0  \n",
      "8               1488646                        63                      0  \n",
      "9               1638914                        66                      0  \n",
      "10              2417368                       164                1305800  \n",
      "11              2096533                       121                1609240  \n",
      "12                    0                         0                      0  \n",
      "13              3576479                       153                      0  \n",
      "14              2770874                       120                      0  \n",
      "15              1592836                        72                      0  \n",
      "\n",
      "The highest principal issuance amount is $346,080,000.00\n",
      "\n",
      "1: $346,080,000.00\n",
      "2: $336,258,000.00\n",
      "3: $281,868,000.00\n",
      "4: $255,000,000.00\n",
      "5: $220,128,000.00\n",
      "6: $239,441,000.00\n",
      "7: $212,000,000.00\n",
      "8: $210,000,000.00\n",
      "9: $178,665,000.00\n",
      "10: $166,545,000.00\n"
     ]
    }
   ],
   "source": [
    "# Create New Dataframe & DataFunctions Class Object\n",
    "df = new_dataframe('MF-Green-MBS.csv')\n",
    "data_fun = DataFunctions(df)\n",
    "\n",
    "data_fun.print_row_count()\n",
    "\n",
    "print()\n",
    "\n",
    "data_fun.print_x_head(12) # User input for 'x'\n",
    "\n",
    "print()\n",
    "\n",
    "data_fun.print_largest_bond() # Uses a Max-Heap Algorithm\n",
    "\n",
    "print()\n",
    "\n",
    "data_fun.print_top_x_principal_issuances(10) # Uses a Heap-Sort Algorithm - User input for 'x'"
   ]
  },
  {
   "cell_type": "markdown",
   "metadata": {},
   "source": [
    "### Data Visualization"
   ]
  },
  {
   "cell_type": "markdown",
   "metadata": {},
   "source": [
    "#### Energy Savings per Issuance Dollar"
   ]
  },
  {
   "cell_type": "code",
   "execution_count": 31,
   "metadata": {},
   "outputs": [
    {
     "name": "stderr",
     "output_type": "stream",
     "text": [
      "C:\\Users\\abhin\\AppData\\Local\\Temp\\ipykernel_10344\\529986978.py:24: UserWarning:\n",
      "\n",
      "set_ticklabels() should only be used with a fixed number of ticks, i.e. after set_ticks() or using a FixedLocator.\n",
      "\n"
     ]
    },
    {
     "data": {
      "image/png": "[encoded data removed]",
      "text/plain": [
       "<Figure size 640x480 with 1 Axes>"
      ]
     },
     "metadata": {},
     "output_type": "display_data"
    }
   ],
   "source": [
    "def issuance_energy_graph(df):\n",
    "    \"Scatterplot visualizing Bond Principal Issuance Amount versus Energy Savings.\"\n",
    "    # Create the scatter\n",
    "    plt.scatter(df['Principal $'],\n",
    "                    df['Energy Savings kBTU'],\n",
    "                    c = '#3E9C35',\n",
    "                    edgecolors = '#000000')\n",
    "    \n",
    "    plt.title('Energy Savings per Bond Issuance Dollar', fontsize = 20)\n",
    "    plt.xlabel(\"Principal Issuance ($)\", fontsize = 15)\n",
    "    plt.ylabel(\"Energy Savings (kBTU)\", fontsize = 15)\n",
    "\n",
    "    plt.xticks(np.arange(1000000,350000000,step = 50000000))\n",
    "    plt.ticklabel_format(axis='both', style='plain')\n",
    "\n",
    "    # Calculate the fitted line values\n",
    "    m, b = np.polyfit(df['Principal $'], df['Energy Savings kBTU'], 1)\n",
    "\n",
    "    # Plot the fitted line on the scatter plot\n",
    "    plt.plot(df['Principal $'], m * df['Principal $'] + b, color = '#000000')\n",
    "\n",
    "    # Format the y-ticker values\n",
    "    y_values = plt.gca().get_yticks()\n",
    "    plt.gca().set_yticklabels(['{:,.0f}'.format(x) for x in y_values])\n",
    "\n",
    "    # Format the x-ticker values\n",
    "    x_values = plt.gca().get_xticks()\n",
    "    plt.gca().set_xticklabels(['{:,.0f}'.format(x) for x in x_values])\n",
    "\n",
    "    plt.rcParams['figure.figsize'] = [10, 8]\n",
    "\n",
    "    return plt.show()\n",
    "\n",
    "issuance_energy_graph(df)"
   ]
  },
  {
   "cell_type": "markdown",
   "metadata": {},
   "source": [
    "Interpretation:\n",
    "As seen in the above fitted line in the scatterplot, dollars issued for Green MBS had a positive relationship with Energy Savings."
   ]
  },
  {
   "cell_type": "markdown",
   "metadata": {},
   "source": [
    "#### Water Savings per Issuance Dollar"
   ]
  },
  {
   "cell_type": "code",
   "execution_count": 32,
   "metadata": {},
   "outputs": [
    {
     "name": "stderr",
     "output_type": "stream",
     "text": [
      "C:\\Users\\abhin\\AppData\\Local\\Temp\\ipykernel_10344\\3269040247.py:25: UserWarning:\n",
      "\n",
      "set_ticklabels() should only be used with a fixed number of ticks, i.e. after set_ticks() or using a FixedLocator.\n",
      "\n"
     ]
    },
    {
     "data": {
      "image/png": "[encoded data removed]",
      "text/plain": [
       "<Figure size 1000x800 with 1 Axes>"
      ]
     },
     "metadata": {},
     "output_type": "display_data"
    }
   ],
   "source": [
    "def issuance_water_graph(df):\n",
    "    \"Scatterplot visualizing Bond Principal Issuance Amount versus Water Savings.\"\n",
    "\n",
    "    # Create the scatter\n",
    "    plt.scatter(df['Principal $'],\n",
    "                    df['Water Savings Gallons'],\n",
    "                    c = '#005477',\n",
    "                    edgecolors = '#000000')\n",
    "    \n",
    "    plt.title('Water Savings per Bond Issuance Dollar', fontsize = 20)\n",
    "    plt.xlabel(\"Principal Issuance ($)\", fontsize = 15)\n",
    "    plt.ylabel(\"Water Savings (Gallons)\", fontsize = 15)\n",
    "\n",
    "    plt.xticks(np.arange(0, 351000000, step = 50000000))\n",
    "    plt.ticklabel_format(axis='both', style='plain')\n",
    "\n",
    "    # Calculate the fitted line values\n",
    "    m, b = np.polyfit(df['Principal $'], df['Water Savings Gallons'], 1)\n",
    "\n",
    "    # Plot the fitted line on the scatter plot\n",
    "    plt.plot(df['Principal $'], m * df['Principal $'] + b, color = '#000000')\n",
    "\n",
    "    # Format the y-ticker values\n",
    "    y_values = plt.gca().get_yticks()\n",
    "    plt.gca().set_yticklabels(['{:,.0f}'.format(x) for x in y_values])\n",
    "\n",
    "    # Format the x-ticker values\n",
    "    x_values = plt.gca().get_xticks()\n",
    "    plt.gca().set_xticklabels(['{:,.0f}'.format(x) for x in x_values])\n",
    "\n",
    "    return plt.show()\n",
    "\n",
    "issuance_water_graph(df)"
   ]
  },
  {
   "cell_type": "markdown",
   "metadata": {},
   "source": [
    "Interpretation:\n",
    "As seen in the above fitted line in the scatterplot, dollars issued for Green MBS had a slightly positive relationship with Water Savings."
   ]
  },
  {
   "cell_type": "markdown",
   "metadata": {},
   "source": [
    "#### Emissions Savings per Issuance Dollar"
   ]
  },
  {
   "cell_type": "code",
   "execution_count": 33,
   "metadata": {},
   "outputs": [
    {
     "name": "stderr",
     "output_type": "stream",
     "text": [
      "C:\\Users\\abhin\\AppData\\Local\\Temp\\ipykernel_10344\\1304889133.py:25: UserWarning:\n",
      "\n",
      "set_ticklabels() should only be used with a fixed number of ticks, i.e. after set_ticks() or using a FixedLocator.\n",
      "\n"
     ]
    },
    {
     "data": {
      "image/png": "[encoded data removed]",
      "text/plain": [
       "<Figure size 1000x800 with 1 Axes>"
      ]
     },
     "metadata": {},
     "output_type": "display_data"
    }
   ],
   "source": [
    "def issuance_emissions_graph(df):\n",
    "    \"Scatterplot visualizing Bond Principal Issuance Amount versus Emissions Savings.\"\n",
    "\n",
    "    # Create the scatter\n",
    "    plt.scatter(df['Principal $'],\n",
    "                    df['Emissions Savings MTCO2e'],\n",
    "                    c = '#836539',\n",
    "                    edgecolors = '#000000')\n",
    "    \n",
    "    plt.title('Emissions Savings per Bond Issuance Dollar', fontsize = 20)\n",
    "    plt.xlabel(\"Principal Issuance ($)\", fontsize = 15)\n",
    "    plt.ylabel(\"Emissions Savings (MTCO2e)\", fontsize = 15)\n",
    "\n",
    "    plt.xticks(np.arange(0, 351000000, step = 50000000))\n",
    "    plt.ticklabel_format(axis='both', style='plain')\n",
    "\n",
    "    # Calculate the fitted line values\n",
    "    m, b = np.polyfit(df['Principal $'], df['Emissions Savings MTCO2e'], 1)\n",
    "\n",
    "    # Plot the fitted line on the scatter plot\n",
    "    plt.plot(df['Principal $'], m * df['Principal $'] + b, color = '#000000')\n",
    "\n",
    "    # Format the y-ticker values\n",
    "    y_values = plt.gca().get_yticks()\n",
    "    plt.gca().set_yticklabels(['{:,.0f}'.format(x) for x in y_values])\n",
    "\n",
    "    # Format the x-ticker values\n",
    "    x_values = plt.gca().get_xticks()\n",
    "    plt.gca().set_xticklabels(['{:,.0f}'.format(x) for x in x_values])\n",
    "\n",
    "    return plt.show()\n",
    "\n",
    "issuance_emissions_graph(df)"
   ]
  },
  {
   "cell_type": "markdown",
   "metadata": {},
   "source": [
    "Interpretation:\n",
    "As seen in the above fitted line in the scatterplot, dollars issued for Green MBS had a positive relationship with Emissions Savings."
   ]
  },
  {
   "cell_type": "markdown",
   "metadata": {},
   "source": [
    "## Test Case"
   ]
  },
  {
   "cell_type": "code",
   "execution_count": 34,
   "metadata": {},
   "outputs": [
    {
     "name": "stdout",
     "output_type": "stream",
     "text": [
      "There are 19 total rows in the dataframe.\n",
      "Here are the top 5 rows in the dataframe.\n",
      "\n",
      "       CUSIP                Financing Type Issue Date  Principal $  \\\n",
      "4  3140LH2R0  Green Building Certification   1 Dec 22    242538299   \n",
      "5  3140LH5K2  Green Building Certification   1 Dec 22    173062214   \n",
      "6  3140LHUA6  Green Building Certification   1 Dec 22    165215608   \n",
      "7  3140LJCX2  Green Building Certification   1 Dec 22     87686335   \n",
      "8  3140LJKT2  Green Building Certification   1 Dec 22    254249709   \n",
      "\n",
      "   Energy Savings kBTU  Emissions Savings MTCO2e  Water Savings Gallons  \n",
      "4              9340180                       499                      0  \n",
      "5              3087536                       300                      0  \n",
      "6              5492417                       259                      0  \n",
      "7              5952511                       332                      0  \n",
      "8              4167872                       171                      0  \n",
      "The highest principal issuance amount is $299,921,185.00\n",
      "1: $299,921,185.00\n",
      "2: $242,538,299.00\n",
      "3: $254,249,709.00\n",
      "4: $221,816,623.00\n",
      "5: $173,062,214.00\n"
     ]
    }
   ],
   "source": [
    "def test_data_funcs(filename):\n",
    "    \"This function will test all of the DataFunction methods.\"\n",
    "\n",
    "    test = new_dataframe(filename)\n",
    "\n",
    "    test_obj = DataFunctions(test)\n",
    "\n",
    "    test_obj.print_row_count()\n",
    "    test_obj.print_x_head(5)\n",
    "    test_obj.print_largest_bond()\n",
    "    test_obj.print_top_x_principal_issuances(5)\n",
    "\n",
    "test_data_funcs('Test-MF-Green-MBS.csv')"
   ]
  },
  {
   "cell_type": "code",
   "execution_count": 35,
   "metadata": {},
   "outputs": [
    {
     "name": "stderr",
     "output_type": "stream",
     "text": [
      "C:\\Users\\abhin\\AppData\\Local\\Temp\\ipykernel_10344\\529986978.py:24: UserWarning:\n",
      "\n",
      "set_ticklabels() should only be used with a fixed number of ticks, i.e. after set_ticks() or using a FixedLocator.\n",
      "\n"
     ]
    },
    {
     "data": {
      "image/png": "[encoded data removed]",
      "text/plain": [
       "<Figure size 1000x800 with 1 Axes>"
      ]
     },
     "metadata": {},
     "output_type": "display_data"
    },
    {
     "name": "stderr",
     "output_type": "stream",
     "text": [
      "C:\\Users\\abhin\\AppData\\Local\\Temp\\ipykernel_10344\\1304889133.py:25: UserWarning:\n",
      "\n",
      "set_ticklabels() should only be used with a fixed number of ticks, i.e. after set_ticks() or using a FixedLocator.\n",
      "\n"
     ]
    },
    {
     "data": {
      "image/png": "[encoded data removed]",
      "text/plain": [
       "<Figure size 1000x800 with 1 Axes>"
      ]
     },
     "metadata": {},
     "output_type": "display_data"
    },
    {
     "name": "stderr",
     "output_type": "stream",
     "text": [
      "C:\\Users\\abhin\\AppData\\Local\\Temp\\ipykernel_10344\\3269040247.py:25: UserWarning:\n",
      "\n",
      "set_ticklabels() should only be used with a fixed number of ticks, i.e. after set_ticks() or using a FixedLocator.\n",
      "\n"
     ]
    },
    {
     "data": {
      "image/png": "[encoded data removed]",
      "text/plain": [
       "<Figure size 1000x800 with 1 Axes>"
      ]
     },
     "metadata": {},
     "output_type": "display_data"
    }
   ],
   "source": [
    "def test_graphs(filename):\n",
    "    \"This function will test all of the static graphs with new, random data.\"\n",
    "    test_df = new_dataframe(filename)\n",
    "\n",
    "    issuance_energy_graph(test_df)\n",
    "\n",
    "    issuance_emissions_graph(test_df)\n",
    "\n",
    "    issuance_water_graph(test_df)\n",
    "\n",
    "test_graphs('Test-MF-Green-MBS.csv')"
   ]
  },
  {
   "cell_type": "markdown",
   "metadata": {},
   "source": [
    "## __Program Expectations__"
   ]
  },
  {
   "cell_type": "markdown",
   "metadata": {},
   "source": [
    "* The current expectations of the software is that it should be able to be replicated given that future datasets follow the previous file formatting\n",
    "\n",
    "* Based on the test cases and the actual datasets, we believe that the program should give accurate visualizations of the data\n",
    "* Furthermore, some of the methods and visualizations allow for a degree of interactivity (i.e. drop down filtering), so we expect the code to be dynamic, accounting for user inputs as given\n",
    "* One of the expected weaknesses is that the data processing will not work well with different data formats as the data cleaning in the project is tailored to each specific dataset\n",
    "* Another weakness is handling missing data, since we would be making assumptions when addressing whether to fill in an empty cell with a value or remove the entire row \n"
   ]
  },
  {
   "cell_type": "markdown",
   "metadata": {},
   "source": [
    "## __References__"
   ]
  },
  {
   "cell_type": "markdown",
   "metadata": {},
   "source": [
    "* Max_heap Class from Course GitHub: https://github.com/kiat/Elements-of-Software-Design/blob/main/example_009_3_heap.py\n",
    "* Heap Sort from GeeksforGeeks: https://www.geeksforgeeks.org/heap-sort/\n",
    "* Pandas Documentation: https://pandas.pydata.org/docs/\n",
    "* NumPy Documentation: https://numpy.org/doc/\n",
    "* Matplotlib Documentation: https://matplotlib.org/stable/index.html\n",
    "* Seaborn Documentation: https://seaborn.pydata.org/\n",
    "* Altair Documentation: https://altair-viz.github.io/user_guide/data.html#user-guide-data\n",
    "* Plotly Documentation: https://plotly.com/python/"
   ]
  }
 ],
 "metadata": {
  "kernelspec": {
   "display_name": "base",
   "language": "python",
   "name": "python3"
  },
  "language_info": {
   "codemirror_mode": {
    "name": "ipython",
    "version": 3
   },
   "file_extension": ".py",
   "mimetype": "text/x-python",
   "name": "python",
   "nbconvert_exporter": "python",
   "pygments_lexer": "ipython3",
   "version": "3.9.12"
  }
 },
 "nbformat": 4,
 "nbformat_minor": 2
}
