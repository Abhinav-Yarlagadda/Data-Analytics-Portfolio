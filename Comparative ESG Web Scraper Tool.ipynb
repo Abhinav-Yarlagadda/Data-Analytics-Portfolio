{
 "cells": [
  {
   "cell_type": "markdown",
   "id": "41268a14",
   "metadata": {},
   "source": [
    "# ESG Overview"
   ]
  },
  {
   "cell_type": "markdown",
   "id": "4f85355f",
   "metadata": {},
   "source": [
    "Once a niche field, ESG has grown in prominence as a vital indicator for investors to assess the various industries and market sectors. Representing three primary standards for company valuation, ESG stands for Environmental, Social, and Governance criteria. The environmental metric focuses on the sustainable use of the Earth's resources, encompassing the impact on biodiversity to pollution and deforestation from business operations. On the other hand, the social metric concentrates on labor practices along with diversity, equity, and inclusion in the workforce among other social policies. Lastly, goverance is measured through how well a company abides by ethical and govermental policies, promoting transparent managerial practices. These three pillars of the ESG framework are collectively applied to capture the non-financial risks aspects of a company's operational scope. "
   ]
  },
  {
   "cell_type": "markdown",
   "id": "426c818e",
   "metadata": {},
   "source": [
    "## Rationale of Comparing ESG Ratings"
   ]
  },
  {
   "cell_type": "markdown",
   "id": "821faae1",
   "metadata": {},
   "source": [
    "In order to assess the ESG performance of a company, ESG scores from independent third-party rating agencies are often factored in for socially motivated shareholders. However, as ESG investing gains more and more traction for screening investments, a major flaw in the ESG rating system must be addressed. Since there are no standardized regulations on how ESG indicators are to be evaluated by rating agencies, the scores are usually subjective to the weighting methodology employed by the specific agency. Therefore, ESG ratings tend to conflict with each other as a certain agency may weigh more heavily on sustainability for their assessment, while another may focus on goverance, which can lead to inconsistent results.\n",
    "\n",
    "As a result, comparing ESG metrics and rating standards of different agenices paints a more clear picture that investors can use to screen prospective investments. With that goal in mind, I have created two web scraper tools below that will allow a user to exract a comapny's ESG metrics from both the Sustainalytics and S&P Global rating agencies. By analyzing ESG scoring features of the two rating standards, investors will be able to simultaneously access a comprehensive outlook of a company's ESG framework, empowering them to make conscientious investment decisions."
   ]
  },
  {
   "cell_type": "markdown",
   "id": "209254d0",
   "metadata": {},
   "source": [
    "\n",
    "\n",
    "## Sustainalytics Web Scraper"
   ]
  },
  {
   "cell_type": "markdown",
   "id": "18a9e98c",
   "metadata": {},
   "source": [
    "The Sustainalytics Web Scraper provides the user with an aggregate ESG score ranging from 0 to 40+ with lower scores equating to lower ESG risk and vice versa. The scores are  further categorized all the way from negligible to severe risk. In addition, the web scraper also extracts the company ranking by industry and globally from Sustainalytics for further comparision."
   ]
  },
  {
   "cell_type": "code",
   "execution_count": 4,
   "id": "96808641",
   "metadata": {},
   "outputs": [
    {
     "name": "stdout",
     "output_type": "stream",
     "text": [
      "Enter URL of Company ESG Rating from Sustainalytics: https://www.sustainalytics.com/esg-rating/apple-inc/1007903183\n",
      "\n",
      "\u001b[1mCompany: Apple, Inc.\u001b[0m\n",
      "\n",
      "ESG Rating: 16.7\n",
      "\n",
      "ESG Risk Assessment: Low Risk\n",
      "\n",
      "Technology Hardware Industry Rank: 223 out of 653\n",
      "\n",
      "Global Rank: 2204 out of 15226\n",
      "\n",
      "Last Updated: Jul 13, 2022\n"
     ]
    }
   ],
   "source": [
    "from bs4 import BeautifulSoup\n",
    "import requests\n",
    "import pandas as pd\n",
    "\n",
    "#acquires user input for specific company ESG rating url from Sustainalytics\n",
    "url = input(\"Enter URL of Company ESG Rating from Sustainalytics: \")\n",
    "\n",
    "#extracts and stores page content from Sustainalytics\n",
    "headers = {\"User-Agent\":\"Mozilla/5.0 (Macintosh; Intel Mac OS X 10_15_7) AppleWebKit/537.36 (KHTML, like Gecko) Chrome/109.0.0.0 Safari/537.36\", \"Accept-Encoding\":\"gzip, deflate\", \"Accept\":\"text/html,application/xhtml+xml,application/xml;q=0.9,image/avif,image/webp,image/apng,*/*;q=0.8,application/signed-exchange;v=b3;q=0.9\"}\n",
    "results = requests.get(url, headers)\n",
    "soup = BeautifulSoup(results.content, \"html.parser\")\n",
    "soup = BeautifulSoup(soup.prettify(), \"html.parser\")\n",
    "\n",
    "#scrapes relevant ESG information and rankings for the company\n",
    "company = soup.find(\"div\", class_ =\"row company-name\").get_text()\n",
    "esg_score = soup.find(\"div\", class_ =\"col-6 risk-rating-score\").get_text()\n",
    "esg_assessment = soup.find(\"div\", class_ =\"col-6 risk-rating-assessment\").get_text()\n",
    "industry_group = soup.find(\"strong\", class_ =\"industry-group\").get_text()\n",
    "industry_position = soup.find(\"strong\", class_ =\"industry-group-position\").get_text()\n",
    "industry_total = soup.find(\"span\", class_ =\"industry-group-positions-total\").get_text()\n",
    "global_position = soup.find(\"strong\", class_ =\"universe-position\").get_text()\n",
    "global_total = soup.find(\"span\", class_ =\"universe-positions-total\").get_text()\n",
    "last_update = soup.find(\"div\", class_ =\"update-date\").get_text()\n",
    "\n",
    "#cleans data formatting and converts into proper data types\n",
    "company = company.strip()\n",
    "esg_score = float(esg_score.strip())\n",
    "esg_assessment = esg_assessment.strip()\n",
    "industry_group = industry_group.strip()\n",
    "industry_position = int(industry_position.strip())\n",
    "industry_total = int(industry_total.strip())\n",
    "global_position = int(global_position.strip())\n",
    "global_total = int(global_total.strip())\n",
    "last_update = last_update.replace(\"Last Update:\", \"\").strip()\n",
    "\n",
    "\n",
    "#displays information output in a cohorent and logical format\n",
    "print(f\"\\n\\033[1mCompany: {company}\\033[0m\")\n",
    "print(f\"\\nESG Rating: {esg_score}\")\n",
    "print(f\"\\nESG Risk Assessment: {esg_assessment}\")\n",
    "print(f\"\\n{industry_group} Industry Rank: {industry_position} out of {industry_total}\")\n",
    "print(f\"\\nGlobal Rank: {global_position} out of {global_total}\")\n",
    "print(f\"\\nLast Updated: {last_update}\")\n"
   ]
  },
  {
   "cell_type": "markdown",
   "id": "19c1c4ae",
   "metadata": {},
   "source": [
    "## S&P Global Web Scraper"
   ]
  },
  {
   "cell_type": "markdown",
   "id": "d95db65d",
   "metadata": {},
   "source": [
    "With the S&P Global Web Scraper, the user can access a more finer breakdown of ESG metrics, albeit without rankings or a risk assessment. The aggregate ESG score for S&P Global ranges from 0 to 100, which is an average of the environmental, social, and governance metrics of the company. Finally, the web scraper displays a breakdown of ESG metrics and industry benchmarks in a tabular format."
   ]
  },
  {
   "cell_type": "code",
   "execution_count": 3,
   "id": "3bc9682e",
   "metadata": {},
   "outputs": [
    {
     "name": "stdout",
     "output_type": "stream",
     "text": [
      "Enter URL of Company ESG Rating from S&P Global: https://www.spglobal.com/esg/scores/results?cid=4004205\n",
      "\n",
      "\u001b[1mCompany: Apple Inc.\n",
      "\n",
      "\u001b[0mIndustry: THQ Computers & Peripherals and Office Electronics\n",
      "\n",
      "ESG Rating: 37\n"
     ]
    },
    {
     "data": {
      "text/html": [
       "<style type=\"text/css\">\n",
       "</style>\n",
       "<table id=\"T_64438_\">\n",
       "  <caption>Apple Inc. ESG Rating Breakdown</caption>\n",
       "  <thead>\n",
       "    <tr>\n",
       "      <th class=\"blank level0\" >&nbsp;</th>\n",
       "      <th class=\"col_heading level0 col0\" >Rating Benchmark</th>\n",
       "      <th class=\"col_heading level0 col1\" >Environmental</th>\n",
       "      <th class=\"col_heading level0 col2\" >Social</th>\n",
       "      <th class=\"col_heading level0 col3\" >Governance</th>\n",
       "    </tr>\n",
       "  </thead>\n",
       "  <tbody>\n",
       "    <tr>\n",
       "      <th id=\"T_64438_level0_row0\" class=\"row_heading level0 row0\" >0</th>\n",
       "      <td id=\"T_64438_row0_col0\" class=\"data row0 col0\" >Apple Inc. Score</td>\n",
       "      <td id=\"T_64438_row0_col1\" class=\"data row0 col1\" >61</td>\n",
       "      <td id=\"T_64438_row0_col2\" class=\"data row0 col2\" >24</td>\n",
       "      <td id=\"T_64438_row0_col3\" class=\"data row0 col3\" >29</td>\n",
       "    </tr>\n",
       "    <tr>\n",
       "      <th id=\"T_64438_level0_row1\" class=\"row_heading level0 row1\" >1</th>\n",
       "      <td id=\"T_64438_row1_col0\" class=\"data row1 col0\" >Industry Mean</td>\n",
       "      <td id=\"T_64438_row1_col1\" class=\"data row1 col1\" >36</td>\n",
       "      <td id=\"T_64438_row1_col2\" class=\"data row1 col2\" >32</td>\n",
       "      <td id=\"T_64438_row1_col3\" class=\"data row1 col3\" >34</td>\n",
       "    </tr>\n",
       "    <tr>\n",
       "      <th id=\"T_64438_level0_row2\" class=\"row_heading level0 row2\" >2</th>\n",
       "      <td id=\"T_64438_row2_col0\" class=\"data row2 col0\" >Industry Best</td>\n",
       "      <td id=\"T_64438_row2_col1\" class=\"data row2 col1\" >95</td>\n",
       "      <td id=\"T_64438_row2_col2\" class=\"data row2 col2\" >89</td>\n",
       "      <td id=\"T_64438_row2_col3\" class=\"data row2 col3\" >89</td>\n",
       "    </tr>\n",
       "  </tbody>\n",
       "</table>\n"
      ],
      "text/plain": [
       "<pandas.io.formats.style.Styler at 0x7fdcdc44d6a0>"
      ]
     },
     "metadata": {},
     "output_type": "display_data"
    },
    {
     "name": "stdout",
     "output_type": "stream",
     "text": [
      "\n",
      "Last Updated: December 16, 2022\n",
      "\n"
     ]
    }
   ],
   "source": [
    "#acquires user input for specific company ESG rating url from S&P Globa;\n",
    "url = input(\"Enter URL of Company ESG Rating from S&P Global: \")\n",
    "\n",
    "#extracts and stores page content from S&P Global\n",
    "headers = {\"User-Agent\":\"Mozilla/5.0 (Macintosh; Intel Mac OS X 10_15_7) AppleWebKit/537.36 (KHTML, like Gecko) Chrome/109.0.0.0 Safari/537.36\", \"Accept-Encoding\":\"gzip, deflate\", \"Accept\":\"text/html,application/xhtml+xml,application/xml;q=0.9,image/avif,image/webp,image/apng,*/*;q=0.8,application/signed-exchange;v=b3;q=0.9\"}\n",
    "results = requests.get(url, headers)\n",
    "soup = BeautifulSoup(results.content, \"html.parser\")\n",
    "soup = BeautifulSoup(soup.prettify(), \"html.parser\")\n",
    "\n",
    "#scrapes overview information and cleans the data formatting\n",
    "company = soup.find(\"h2\", class_ =\"headline-3\").get_text()\n",
    "industry = soup.find(\"li\", id =\"company-industry\").get_text()\n",
    "esg_score = soup.find(\"p\", id =\"esg-score\").get_text()\n",
    "last_update = soup.find(\"p\", id =\"company-score-update\").get_text()\n",
    "\n",
    "company = company.strip()\n",
    "industry = industry.strip()\n",
    "esg_score = esg_score.strip()\n",
    "last_update = last_update.strip().replace(\". Updated annually or in response to major developments.\", \"\")\n",
    "\n",
    "#defines a function to specifically scrape rating metrics from the S&P Global page in a meaningful format\n",
    "def extract_scores(score):\n",
    "    score = str(score)\n",
    "    \n",
    "    company_location = score.rfind(\"data-score\")\n",
    "    company_score = (score[company_location + 11:company_location + 15]).strip().replace(\"\\\"\", \"\")\n",
    "\n",
    "    mean_location = score.rfind(\"data-avg\")\n",
    "    industry_mean = (score[mean_location + 9:mean_location + 13]).strip().replace(\"\\\"\", \"\")\n",
    "\n",
    "    max_location = score.rfind(\"data-max\")\n",
    "    industry_best = (score[max_location + 9:max_location + 13]).strip().replace(\"\\\"\", \"\")\n",
    "\n",
    "    rating_metrics = [int(company_score), int(industry_mean), int(industry_best)]\n",
    "    return rating_metrics\n",
    "\n",
    "#creates a dictionary to store breakdown of ESG ratings\n",
    "esg_metrics ={\"Rating Benchmark\": [f\"{company} Score\", \"Industry Mean\", \"Industry Best\"],\n",
    "             \"Environmental\": [],\n",
    "             \"Social\": [],\n",
    "             \"Governance\": []}\n",
    "\n",
    "#extracts rating metrics from each ESG category\n",
    "env = soup.find(id = \"dimentions-score-env\")\n",
    "esg_metrics[\"Environmental\"] += extract_scores(env)\n",
    "\n",
    "soc = soup.find(id = \"dimentions-score-social\")\n",
    "esg_metrics[\"Social\"] += extract_scores(soc)\n",
    "\n",
    "gov = soup.find(id = \"dimentions-score-govecon\")\n",
    "esg_metrics[\"Governance\"] += extract_scores(gov)\n",
    "\n",
    "#displays output, inlcuding ESG rating breakdown in table format\n",
    "print(f\"\\n\\033[1mCompany: {company}\\n\")\n",
    "print(f\"\\033[0m{industry}\\n\")\n",
    "print(f\"ESG Rating: {esg_score}\")\n",
    "\n",
    "df = pd.DataFrame(esg_metrics)\n",
    "df = df.style.set_caption(f\"{company} ESG Rating Breakdown\")\n",
    "display(df)\n",
    "\n",
    "print(f\"\\n{last_update}\\n\")\n"
   ]
  }
 ],
 "metadata": {
  "kernelspec": {
   "display_name": "Python 3 (ipykernel)",
   "language": "python",
   "name": "python3"
  },
  "language_info": {
   "codemirror_mode": {
    "name": "ipython",
    "version": 3
   },
   "file_extension": ".py",
   "mimetype": "text/x-python",
   "name": "python",
   "nbconvert_exporter": "python",
   "pygments_lexer": "ipython3",
   "version": "3.9.7"
  }
 },
 "nbformat": 4,
 "nbformat_minor": 5
}
